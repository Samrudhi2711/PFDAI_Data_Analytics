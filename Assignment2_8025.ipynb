{
 "cells": [
  {
   "cell_type": "code",
   "execution_count": 6,
   "id": "bd309f0e-0694-480a-9b46-5a7ac0fc40a1",
   "metadata": {},
   "outputs": [],
   "source": [
    "import numpy as np\n",
    "import pandas as pd"
   ]
  },
  {
   "cell_type": "markdown",
   "id": "b9a81ae7-351e-4c5c-ba7c-abfa546fbfae",
   "metadata": {},
   "source": [
    "# 1. Write a Pandas program to create and display a one-dimensional array-like object containing an array of data using Pandas module."
   ]
  },
  {
   "cell_type": "code",
   "execution_count": 9,
   "id": "dc1f6428-152f-415b-a583-642ac744cf03",
   "metadata": {},
   "outputs": [
    {
     "name": "stdout",
     "output_type": "stream",
     "text": [
      "Pandas Series:\n"
     ]
    },
    {
     "data": {
      "text/plain": [
       "0    11\n",
       "1    22\n",
       "2    33\n",
       "3    44\n",
       "4    55\n",
       "5    66\n",
       "6    87\n",
       "dtype: int64"
      ]
     },
     "execution_count": 9,
     "metadata": {},
     "output_type": "execute_result"
    }
   ],
   "source": [
    "arr=pd.Series([11,22,33,44,55,66,87])\n",
    "print(\"Pandas Series:\")\n",
    "arr"
   ]
  },
  {
   "cell_type": "markdown",
   "id": "65fd4fc1-ba1d-4f6a-8de8-510b2c4e608f",
   "metadata": {},
   "source": [
    "# 2. Write a Pandas program to convert a Panda module Series to Python list and it's type."
   ]
  },
  {
   "cell_type": "code",
   "execution_count": 12,
   "id": "74d94e44-9e93-4095-8546-746c3f312bf1",
   "metadata": {},
   "outputs": [
    {
     "name": "stdout",
     "output_type": "stream",
     "text": [
      "Python list:\n"
     ]
    },
    {
     "data": {
      "text/plain": [
       "[11, 22, 33, 44, 55, 66, 87]"
      ]
     },
     "execution_count": 12,
     "metadata": {},
     "output_type": "execute_result"
    }
   ],
   "source": [
    "arr=pd.Series([11,22,33,44,55,66,87])\n",
    "print(\"Python list:\")\n",
    "lst=arr.tolist()\n",
    "lst\n"
   ]
  },
  {
   "cell_type": "markdown",
   "id": "557a06eb-197a-4b74-b461-0c5a90f61055",
   "metadata": {},
   "source": [
    "# 3. Write a Pandas program to add, subtract, multiple and divide two Pandas Series.Sample Series: [2, 4, 6, 8, 10], [1, 3, 5, 7, 9]"
   ]
  },
  {
   "cell_type": "code",
   "execution_count": 16,
   "id": "0dd191c4-a4f8-4240-97fd-6a5d87f0e309",
   "metadata": {},
   "outputs": [
    {
     "name": "stdout",
     "output_type": "stream",
     "text": [
      "Addition of s1 + s2 :\n",
      " 0     3\n",
      "1     7\n",
      "2    11\n",
      "3    15\n",
      "4    19\n",
      "dtype: int64\n",
      "Subtraction of s1 - s2 :\n",
      " 0    1\n",
      "1    1\n",
      "2    1\n",
      "3    1\n",
      "4    1\n",
      "dtype: int64\n",
      "Multiplication of s1 * s2 :\n",
      " 0     2\n",
      "1    12\n",
      "2    30\n",
      "3    56\n",
      "4    90\n",
      "dtype: int64\n",
      "Division of s1 / s2 :\n",
      " 0    2.000000\n",
      "1    1.333333\n",
      "2    1.200000\n",
      "3    1.142857\n",
      "4    1.111111\n",
      "dtype: float64\n"
     ]
    }
   ],
   "source": [
    "s1=pd.Series([2,4,6,8,10])\n",
    "s2=pd.Series([1,3,5,7,9])\n",
    "print(\"Addition of s1 + s2 :\\n\",s1 + s2)\n",
    "print(\"Subtraction of s1 - s2 :\\n\",s1 - s2)\n",
    "print(\"Multiplication of s1 * s2 :\\n\",s1 * s2)\n",
    "print(\"Division of s1 / s2 :\\n\",s1 / s2)"
   ]
  },
  {
   "cell_type": "markdown",
   "id": "84730774-ccc7-41f5-b411-99267b9ea65b",
   "metadata": {},
   "source": [
    "# Write a Pandas program to compare the elements of the two Pandas Series.Sample Series: [2, 4, 6, 8, 10], [1, 3, 5, 7, 10]"
   ]
  },
  {
   "cell_type": "code",
   "execution_count": 19,
   "id": "e4ef7992-4523-4fa8-8877-d408966164ff",
   "metadata": {},
   "outputs": [
    {
     "name": "stdout",
     "output_type": "stream",
     "text": [
      "is equal :\n",
      " 0    False\n",
      "1    False\n",
      "2    False\n",
      "3    False\n",
      "4     True\n",
      "dtype: bool\n",
      "Greater Than:\n",
      " 0     True\n",
      "1     True\n",
      "2     True\n",
      "3     True\n",
      "4    False\n",
      "dtype: bool\n",
      "Less Than:\n",
      " 0     True\n",
      "1     True\n",
      "2     True\n",
      "3     True\n",
      "4    False\n",
      "dtype: bool\n",
      "not equal to:\n",
      " 0     True\n",
      "1     True\n",
      "2     True\n",
      "3     True\n",
      "4    False\n",
      "dtype: bool\n",
      "Greater Than equal to:\n",
      " 0    True\n",
      "1    True\n",
      "2    True\n",
      "3    True\n",
      "4    True\n",
      "dtype: bool\n",
      "Less Than equal to:\n",
      " 0    True\n",
      "1    True\n",
      "2    True\n",
      "3    True\n",
      "4    True\n",
      "dtype: bool\n"
     ]
    }
   ],
   "source": [
    "s1=pd.Series([2, 4, 6, 8, 10])\n",
    "s2=pd.Series([1, 3, 5, 7, 10])\n",
    "print(\"is equal :\\n\",s1==s2)\n",
    "print(\"Greater Than:\\n\",s1>s2)\n",
    "print(\"Less Than:\\n\",s1>s2)\n",
    "print(\"not equal to:\\n\",s1!=s2)\n",
    "print(\"Greater Than equal to:\\n\",s1>=s2)\n",
    "print(\"Less Than equal to:\\n\",s1>=s2)"
   ]
  },
  {
   "cell_type": "markdown",
   "id": "abb62640-24b5-4719-9872-370ae2dedccb",
   "metadata": {},
   "source": [
    "# 5. Write a Pandas program to convert a dictionary to a Pandas series.\n",
    "Sample Series:\n",
    "Original dictionary:\n",
    "{'a': 100, 'b': 200, 'c': 300, 'd': 400, 'e': 800}\n",
    "Converted series:\n",
    "a 100\n",
    "b 200\n",
    "c 300\n",
    "d 400\n",
    "e 800\n",
    "dtype: int64"
   ]
  },
  {
   "cell_type": "code",
   "execution_count": 22,
   "id": "1f68c9a7-4b26-47b8-9400-1618521acd0c",
   "metadata": {},
   "outputs": [
    {
     "name": "stdout",
     "output_type": "stream",
     "text": [
      "Converted Pandas Series:\n",
      "\n"
     ]
    },
    {
     "data": {
      "text/plain": [
       "a    100\n",
       "b    200\n",
       "c    300\n",
       "d    400\n",
       "e    800\n",
       "dtype: int64"
      ]
     },
     "execution_count": 22,
     "metadata": {},
     "output_type": "execute_result"
    }
   ],
   "source": [
    "data = {'a': 100, 'b': 200, 'c': 300, 'd': 400, 'e': 800}\n",
    "series=pd.Series(data)\n",
    "print(\"Converted Pandas Series:\\n\")\n",
    "series"
   ]
  },
  {
   "cell_type": "markdown",
   "id": "a25cc242-e0b1-4ce7-bd50-bedadf2ea9cf",
   "metadata": {},
   "source": [
    "# 6. Write a Pandas program to convert a NumPy array to a Pandas series.\n",
    "Sample Series:\n",
    "NumPy array:\n",
    "[10 20 30 40 50]\n",
    "Converted Pandas series:\n",
    "0 10\n",
    "1 20\n",
    "2 30\n",
    "3 40\n",
    "4 50\n",
    "dtype: int64\n",
    "7. Write a Pandas p"
   ]
  },
  {
   "cell_type": "code",
   "execution_count": 25,
   "id": "a107d16f-c82a-4bae-8c04-43bdada3d425",
   "metadata": {},
   "outputs": [
    {
     "name": "stdout",
     "output_type": "stream",
     "text": [
      "Converted Pandas Series:\n",
      "\n"
     ]
    },
    {
     "data": {
      "text/plain": [
       "0    10\n",
       "1    20\n",
       "2    30\n",
       "3    40\n",
       "4    50\n",
       "dtype: int64"
      ]
     },
     "execution_count": 25,
     "metadata": {},
     "output_type": "execute_result"
    }
   ],
   "source": [
    "arr=np.array([10 ,20 ,30 ,40, 50])\n",
    "series=pd.Series(arr)\n",
    "print(\"Converted Pandas Series:\\n\")\n",
    "series"
   ]
  },
  {
   "cell_type": "markdown",
   "id": "d6e83d37-2340-4a26-bc55-44508cfcda5b",
   "metadata": {},
   "source": [
    "# 7. Write a Pandas program to change the data type of given a column or a\n",
    "Series.\n",
    "Sample Series:\n",
    "Original Data Series:\n",
    "0 100\n",
    "1 200\n",
    "2 python\n",
    "3 300.12\n",
    "4 400\n",
    "dtype: object\n",
    "Change the said data type to numeric:\n",
    "0 100.00\n",
    "1 200.00\n",
    "2 NaN\n",
    "3 300.12\n",
    "4 400.00\n",
    "dtype: float64"
   ]
  },
  {
   "cell_type": "code",
   "execution_count": 28,
   "id": "3f2799d2-c277-49e6-9d4c-e8b8216b0113",
   "metadata": {},
   "outputs": [
    {
     "name": "stdout",
     "output_type": "stream",
     "text": [
      "Original data: 0       100\n",
      "1       200\n",
      "2    python\n",
      "3    300.12\n",
      "4       400\n",
      "dtype: object\n",
      "data Series after converting to numeric:\n",
      "\n"
     ]
    },
    {
     "data": {
      "text/plain": [
       "0    100.00\n",
       "1    200.00\n",
       "2       NaN\n",
       "3    300.12\n",
       "4    400.00\n",
       "dtype: float64"
      ]
     },
     "execution_count": 28,
     "metadata": {},
     "output_type": "execute_result"
    }
   ],
   "source": [
    "data = pd.Series([100, 200, 'python', 300.12, 400])\n",
    "print(\"Original data:\",data)\n",
    "convert_data=pd.to_numeric(data, errors='coerce')\n",
    "print(\"data Series after converting to numeric:\\n\")\n",
    "convert_data"
   ]
  },
  {
   "cell_type": "markdown",
   "id": "621d52ce-adb5-4f01-ae3e-8f7de43cd638",
   "metadata": {},
   "source": [
    "# 8. Write a Pandas program to convert the first column of a DataFrame as a\n",
    "Series.\n",
    "Sample Output:\n",
    "Original DataFrame\n",
    "col1 col2 col3\n",
    "0 1 4 7\n",
    "1 2 5 5\n",
    "2 3 6 8\n",
    "3 4 9 12\n",
    "4 7 5 1\n",
    "5 11 0 11\n",
    "1st column as a Series:\n",
    "0 1\n",
    "1 2\n",
    "2 3\n",
    "3 4\n",
    "4 7\n",
    "5 11\n",
    "Name: col1, dtype: int64\n",
    "<class 'pandas.core.series.Series'>"
   ]
  },
  {
   "cell_type": "code",
   "execution_count": 31,
   "id": "7e40fe78-2957-4538-8836-f53d19559cbe",
   "metadata": {},
   "outputs": [
    {
     "name": "stdout",
     "output_type": "stream",
     "text": [
      "Original dataFrame:\n",
      "    col1  col2  col3\n",
      "0     1     4     7\n",
      "1     2     3     8\n",
      "2     3     5     8\n",
      "3     4     9    12\n",
      "4     5     7     1\n",
      "5    11     0    11\n",
      "1st column as a Series:/n <class 'pandas.core.series.Series'>\n"
     ]
    }
   ],
   "source": [
    "data = {'col1': [1, 2, 3, 4, 5, 11],\n",
    "        'col2': [4, 3, 5, 9, 7, 0],\n",
    "        'col3': [7, 8, 8, 12, 1, 11]}\n",
    "df=pd.DataFrame(data)\n",
    "print(\"Original dataFrame:\\n\",df)\n",
    "series_column=df['col1']\n",
    "print(\"1st column as a Series:/n\",type(series_column))"
   ]
  },
  {
   "cell_type": "markdown",
   "id": "afd7e88b-9c04-4375-891f-6f0dbbbf762a",
   "metadata": {},
   "source": [
    "# 9. Write a Pandas program to convert a given Series to an array.\n",
    "Sample Output:\n",
    "Original Data Series:\n",
    "0 100\n",
    "1 200\n",
    "2 python\n",
    "3 300.12\n",
    "4 400\n",
    "dtype: object\n",
    "Series to an array\n",
    "['100' '200' 'python' '300.12' '400']\n",
    "<class 'numpy.ndarray'>"
   ]
  },
  {
   "cell_type": "code",
   "execution_count": 34,
   "id": "01c4b06d-13b9-419e-bbb2-920ed37894fc",
   "metadata": {},
   "outputs": [
    {
     "name": "stdout",
     "output_type": "stream",
     "text": [
      "[200 'python' 300.12 400]\n",
      "<class 'numpy.ndarray'>\n"
     ]
    }
   ],
   "source": [
    "data=pd.Series([200, 'python', 300.12, 400], index=[1, 2, 3, 4])\n",
    "numpy_arr=data.to_numpy(data)\n",
    "print(numpy_arr)\n",
    "print(type(numpy_arr))"
   ]
  },
  {
   "cell_type": "markdown",
   "id": "f56fd99a-eb4f-451b-b327-0b601d075f71",
   "metadata": {},
   "source": [
    "# 10. Write a Pandas program to convert Series of lists to one Series.\n",
    "Sample Output:\n",
    "Original Series of list\n",
    "0 [Red, Green, White]\n",
    "1 [Red, Black]\n",
    "2 [Yellow]\n",
    "dtype: object\n",
    "One Series\n",
    "0 Red\n",
    "1 Green\n",
    "2 White\n",
    "3 Red\n",
    "4 Black\n",
    "5 Yellow\n",
    "dtype: object"
   ]
  },
  {
   "cell_type": "code",
   "execution_count": 37,
   "id": "f3c92a5f-e758-4848-b77a-f42fc72b1c7c",
   "metadata": {},
   "outputs": [
    {
     "name": "stdout",
     "output_type": "stream",
     "text": [
      "0       Red\n",
      "1     Green\n",
      "2     White\n",
      "3       Red\n",
      "4     Black\n",
      "5    Yellow\n",
      "dtype: object\n"
     ]
    }
   ],
   "source": [
    "list_series = [\n",
    "    ['Red', 'Green', 'White'],\n",
    "    ['Red','Black'],\n",
    "    ['Yellow']\n",
    "]\n",
    "lst=[item for sublist in list_series for item in sublist]\n",
    "Covert_series=pd.Series(lst)\n",
    "print(Covert_series)"
   ]
  },
  {
   "cell_type": "markdown",
   "id": "7773f210-2c6a-4f79-a1f8-54cad0af1c86",
   "metadata": {},
   "source": [
    "# 11. Write a Pandas program to sort a given Series.\n",
    "Sample Output:\n",
    "Original Data Series:\n",
    "0 100\n",
    "1 200\n",
    "2 python\n",
    "3 300.12\n",
    "4 400\n",
    "dtype: object\n",
    "0 100\n",
    "1 200\n",
    "3 300.12\n",
    "4 400\n",
    "2 python\n",
    "dtype: object"
   ]
  },
  {
   "cell_type": "code",
   "execution_count": 40,
   "id": "cce592e7-62a1-4b5e-8ee5-40324dd0b91d",
   "metadata": {},
   "outputs": [
    {
     "name": "stdout",
     "output_type": "stream",
     "text": [
      "0       100\n",
      "1       200\n",
      "3    300.12\n",
      "4       400\n",
      "2    python\n",
      "dtype: object\n"
     ]
    }
   ],
   "source": [
    "original_series = pd.Series([100, 200,'python',300.12,400])\n",
    "sort_series=original_series .astype(str).sort_values()\n",
    "print(sort_series)"
   ]
  },
  {
   "cell_type": "markdown",
   "id": "b1856f99-1f21-4513-9de2-8425d1be9732",
   "metadata": {},
   "source": [
    "# 12. Write a Pandas program to add some data to an existing Series.\n",
    "Sample Output:\n",
    "Original Data Series:\n",
    "0 100\n",
    "1 200\n",
    "2 python\n",
    "3 300.12\n",
    "4 400\n",
    "dtype: object\n",
    "Data Series after adding some data:\n",
    "0 100\n",
    "1 200\n",
    "2 python\n",
    "3 300.12\n",
    "4 400\n",
    "5 500"
   ]
  },
  {
   "cell_type": "code",
   "execution_count": 43,
   "id": "0b48b600-a09b-4429-873d-f77b8118695e",
   "metadata": {},
   "outputs": [
    {
     "name": "stdout",
     "output_type": "stream",
     "text": [
      "0       100\n",
      "1       200\n",
      "2    python\n",
      "3    300.12\n",
      "4       400\n",
      "5       500\n",
      "6       700\n",
      "dtype: object\n"
     ]
    }
   ],
   "source": [
    "original_series = pd.Series([100,200, 'python', 300.12, 400])\n",
    "add_data=pd.Series([500,700],index=[5,6])\n",
    "upadte_series=pd.concat([original_series,add_data])\n",
    "print(upadte_series)"
   ]
  },
  {
   "cell_type": "markdown",
   "id": "d261dcae-a442-476b-9400-eded0b877521",
   "metadata": {},
   "source": [
    "# 13. Write a Pandas program to create a subset of a given series based on value and\n",
    "condition.\n",
    "Sample Output:\n",
    "Original Data Series:\n",
    "0 0\n",
    "1 1\n",
    "2 2\n",
    "....\n",
    "9 9\n",
    "10 10\n",
    "dtype: int64\n",
    "Subset of the above Data Series:\n",
    "0 0\n",
    "1 1\n",
    "2 2\n",
    "3 3\n",
    "4 4\n",
    "5 5\n",
    "dtype: int64"
   ]
  },
  {
   "cell_type": "code",
   "execution_count": 46,
   "id": "0d96b967-532f-4b4d-a0f1-ab17ba85c2ec",
   "metadata": {},
   "outputs": [
    {
     "name": "stdout",
     "output_type": "stream",
     "text": [
      "0    0\n",
      "1    1\n",
      "2    2\n",
      "3    3\n",
      "4    4\n",
      "5    5\n",
      "dtype: int64\n"
     ]
    }
   ],
   "source": [
    "original_series = pd.Series(range(11))\n",
    "subset_series = original_series[original_series <= 5]\n",
    "print(subset_series)"
   ]
  },
  {
   "cell_type": "markdown",
   "id": "da8041c9-d948-4d3c-9d65-5b3977b2c282",
   "metadata": {},
   "source": [
    "# 14. Write a Pandas program to change the order of index of a given series.\n",
    "Sample Output:\n",
    "Original Data Series:\n",
    "A 1\n",
    "B 2\n",
    "C 3\n",
    "D 4\n",
    "E 5\n",
    "dtype: int64\n",
    "Data Series after changing the order of index:\n",
    "B 2\n",
    "A 1\n",
    "C 3\n",
    "D 4\n",
    "E 5\n",
    "dtype: int64"
   ]
  },
  {
   "cell_type": "code",
   "execution_count": 49,
   "id": "740000a9-74af-4d63-ba6a-70ec49e21605",
   "metadata": {},
   "outputs": [
    {
     "name": "stdout",
     "output_type": "stream",
     "text": [
      "Original Series:\n",
      " A    1\n",
      "B    2\n",
      "C    3\n",
      "D    4\n",
      "E    5\n",
      "dtype: int64\n",
      "updated index Series:\n",
      " B    2\n",
      "A    1\n",
      "C    3\n",
      "D    4\n",
      "E    5\n",
      "dtype: int64\n"
     ]
    }
   ],
   "source": [
    "data = [1, 2, 3, 4, 5]\n",
    "indx = ['A', 'B', 'C', 'D', 'E']\n",
    "original_series = pd.Series(data, index=indx)\n",
    "print(\"Original Series:\\n\",original_series)\n",
    "new_order = ['B', 'A', 'C', 'D', 'E']\n",
    "reordered_series = original_series.reindex(new_order)\n",
    "print(\"updated index Series:\\n\",reordered_series)\n",
    "\n"
   ]
  },
  {
   "cell_type": "markdown",
   "id": "2d8d535d-fa3d-41e4-b592-025624d60d3a",
   "metadata": {},
   "source": [
    "# 15. Write a Pandas program to create the mean and standard deviation of the data of a\n",
    "given Series.\n",
    "Sample Output:\n",
    "Original Data Series:\n",
    "0 1\n",
    "1 2\n",
    "2 3\n",
    "....\n",
    "7 8\n",
    "8 9\n",
    "9 5\n",
    "10 3\n",
    "dtype: int64\n",
    "Mean of the said Data Series:\n",
    "4.818181818181818\n",
    "Standard deviation of the said Data Series:\n",
    "2.522624895547565"
   ]
  },
  {
   "cell_type": "code",
   "execution_count": 60,
   "id": "a4f7aaf8-e189-4a47-a20e-5502579615a4",
   "metadata": {},
   "outputs": [
    {
     "name": "stdout",
     "output_type": "stream",
     "text": [
      "Mean: 46.7\n",
      "standard deviation: 26.37359790902005\n"
     ]
    }
   ],
   "source": [
    "data=[10,20,33,44,45,56,67,78,91,23]\n",
    "df=pd.Series(data)\n",
    "print(\"Mean:\",df.mean())\n",
    "print(\"standard deviation:\",df.std())"
   ]
  },
  {
   "cell_type": "markdown",
   "id": "90b3889f-d333-448e-9ee1-69e628445552",
   "metadata": {},
   "source": [
    "# 16. Write a Pandas program to get the items of a given series not present in another given\n",
    "series.\n",
    "Sample Output:\n",
    "Original Series:\n",
    "sr1:\n",
    "0 1\n",
    "1 2\n",
    "2 3\n",
    "3 4\n",
    "4 5\n",
    "dtype: int64\n",
    "sr2:\n",
    "0 2\n",
    "1 4\n",
    "2 6\n",
    "3 8\n",
    "4 10\n",
    "dtype: int64\n",
    "Items of sr1 not present in sr2:\n",
    "0 1\n",
    "2 3\n",
    "4 5\n",
    "dtype: int64"
   ]
  },
  {
   "cell_type": "code",
   "execution_count": 65,
   "id": "76365490-d4d7-4241-9fde-489526523042",
   "metadata": {},
   "outputs": [
    {
     "data": {
      "text/plain": [
       "0    1\n",
       "2    3\n",
       "4    5\n",
       "6    7\n",
       "8    9\n",
       "dtype: int64"
      ]
     },
     "execution_count": 65,
     "metadata": {},
     "output_type": "execute_result"
    }
   ],
   "source": [
    "data1 = [1, 2, 3, 4, 5, 6, 7, 8, 9, 10]\n",
    "data2 = [2, 4, 6, 8, 10]\n",
    "data1=pd.Series(data1)\n",
    "data2=pd.Series(data2)\n",
    "d1_not_in_d2=data1[~data1.isin(data2.values)]\n",
    "d1_not_in_d2\n"
   ]
  },
  {
   "cell_type": "markdown",
   "id": "f37afbfc-8042-4e40-9f01-70a14f3aaf54",
   "metadata": {},
   "source": [
    "# 17. Write a Pandas program to get the items which are not common of two given series.\n",
    "Sample Output:\n",
    "Original Series:\n",
    "sr1:\n",
    "0 1\n",
    "1 2\n",
    "2 3\n",
    "3 4\n",
    "4 5\n",
    "dtype: int64\n",
    "sr2:\n",
    "0 2\n",
    "1 4\n",
    "2 6\n",
    "3 8\n",
    "4 10\n",
    "dtype: int64\n",
    "Items of a given series not present in another given series:\n",
    "0 1\n",
    "2 3\n",
    "4 5\n",
    "5 6\n",
    "6 8\n",
    "7 10\n",
    "dtype: int64"
   ]
  },
  {
   "cell_type": "code",
   "execution_count": 76,
   "id": "503961c1-a17c-4119-927b-d203c3fc8d0f",
   "metadata": {},
   "outputs": [
    {
     "data": {
      "text/plain": [
       "0    1\n",
       "1    2\n",
       "2    3\n",
       "3    6\n",
       "4    7\n",
       "5    8\n",
       "dtype: int64"
      ]
     },
     "execution_count": 76,
     "metadata": {},
     "output_type": "execute_result"
    }
   ],
   "source": [
    "s1 = pd.Series([1, 2, 3, 4, 5])\n",
    "s2 = pd.Series([4, 5, 6, 7, 8])\n",
    "\n",
    "result=pd.concat([s1[~s1.isin(s2)],(s2[~s2.isin(s1)])],ignore_index=True)\n",
    "result\n",
    "\n"
   ]
  },
  {
   "cell_type": "markdown",
   "id": "21192568-d368-4695-b37c-6ad32c446bcb",
   "metadata": {},
   "source": [
    "# 18. Write a Pandas program to compute the minimum, 25th percentile, median, 75th, and\n",
    "maximum of a given series.\n",
    "Sample Output:\n",
    "Original Series:\n",
    "0 3.000938\n",
    "1 11.370722\n",
    "2 14.612143\n",
    "....\n",
    "17 14.118931\n",
    "18 8.247458\n",
    "19 5.526727\n",
    "dtype: float64\n",
    "Minimum, 25th percentile, median, 75th, and maximum of a given series:\n",
    "[ 3.00093811 8.09463867 10.23353705 12.21537733 14.61214321]"
   ]
  },
  {
   "cell_type": "code",
   "execution_count": 83,
   "id": "f8cf77e5-5ff7-4735-ad9a-8e334f7f6bf3",
   "metadata": {},
   "outputs": [
    {
     "name": "stdout",
     "output_type": "stream",
     "text": [
      "Minimun: 5.100222\n",
      "25th percentile: 7.485649\n",
      "Median: 10.2623635\n",
      "75th percentile: 11.228151\n",
      "Maxmum: 14.612143\n"
     ]
    }
   ],
   "source": [
    "data_18 = [\n",
    "    5.100222, 5.200222, 14.612143, 13.141881, \n",
    "    8.247458, 10.524727, 10.590241, 10.0\n",
    "]\n",
    "df=pd.Series(data_18)\n",
    "print(\"Minimun:\",df.min())\n",
    "print(\"25th percentile:\",df.quantile(0.25))\n",
    "print(\"Median:\",df.median())\n",
    "print(\"75th percentile:\",df.quantile(0.75))\n",
    "print(\"Maxmum:\",df.max())\n"
   ]
  },
  {
   "cell_type": "markdown",
   "id": "cf6760b1-c8c2-49f2-b778-a40c03f41772",
   "metadata": {},
   "source": [
    "# 19. Write a Pandas program to calculate the frequency counts of each unique value of a given series."
   ]
  },
  {
   "cell_type": "code",
   "execution_count": 92,
   "id": "0ca80dbc-50bc-474b-8371-1adb8037f796",
   "metadata": {},
   "outputs": [
    {
     "data": {
      "text/plain": [
       "9     3\n",
       "1     2\n",
       "39    2\n",
       "2     1\n",
       "3     1\n",
       "5     1\n",
       "Name: count, dtype: int64"
      ]
     },
     "execution_count": 92,
     "metadata": {},
     "output_type": "execute_result"
    }
   ],
   "source": [
    "data_19 = [9, 1, 2, 3, 9, 39, 9, 39, 1, 5]\n",
    "df=pd.Series(data_19)\n",
    "count=df.value_counts()\n",
    "count"
   ]
  },
  {
   "cell_type": "markdown",
   "id": "75c8151c-9bff-4fdf-974b-d50950fc5d2c",
   "metadata": {},
   "source": [
    "# 20. Write a Pandas program to display most frequent value in a given series and replace everything else as 'Other' in the series."
   ]
  },
  {
   "cell_type": "code",
   "execution_count": 97,
   "id": "bb961a25-f911-4db5-99cc-5f08191688cb",
   "metadata": {},
   "outputs": [
    {
     "name": "stdout",
     "output_type": "stream",
     "text": [
      "most frequent value: 0    3\n",
      "dtype: int64\n"
     ]
    }
   ],
   "source": [
    "data_20 = [9, 1, 2, 3, 3,3,3,3,3,3,3,3,9, 39, 9, 39, 1, 5]\n",
    "df=pd.Series(data_20)\n",
    "print(\"most frequent value:\",df.mode())"
   ]
  },
  {
   "cell_type": "markdown",
   "id": "139bfcd8-4f85-4dff-a26a-c5ab51d8d0d6",
   "metadata": {},
   "source": [
    "# 21. Write a Pandas program to find the positions of numbers that are multiples of 5 of a\n",
    "given series.\n",
    "Sample Output:\n",
    "Original Series:\n",
    "0 1\n",
    "1 9\n",
    "2 8\n",
    "3 6\n",
    "4 9\n",
    "5 7\n",
    "6 1\n",
    "7 1\n",
    "8 1\n",
    "dtype: int64"
   ]
  },
  {
   "cell_type": "code",
   "execution_count": 116,
   "id": "18833701-cc9e-4bb5-bf09-4aabaf00636d",
   "metadata": {},
   "outputs": [
    {
     "name": "stdout",
     "output_type": "stream",
     "text": [
      "[3, 5, 6, 7]\n"
     ]
    }
   ],
   "source": [
    "data_21=([1,9,8,50,7,80,10,100,1])\n",
    "df=pd.Series(data_21)\n",
    "result = df.index[df % 5 == 0].tolist()\n",
    "print(result)"
   ]
  },
  {
   "cell_type": "markdown",
   "id": "f93e1ba4-b8af-4772-ad80-d66711c90c6d",
   "metadata": {},
   "source": [
    "# 23. Write a Pandas program to extract items at given positions of a given series.\n",
    "Sample Output:\n",
    "Original Series:\n",
    "0 2\n",
    "1 3\n",
    "2 9\n",
    "3 0\n",
    "4 2\n",
    "5 3\n",
    "...\n",
    "19 0\n",
    "20 2\n",
    "21 3\n",
    "dtype: object\n",
    "Extract items at given positions of the said series:\n",
    "0 2\n",
    "2 9\n",
    "6 8\n",
    "11 0\n",
    "21 3\n",
    "dtype: object"
   ]
  },
  {
   "cell_type": "code",
   "execution_count": 122,
   "id": "6ab3d423-cb56-4761-a4fc-ea7b58d7e733",
   "metadata": {},
   "outputs": [
    {
     "name": "stdout",
     "output_type": "stream",
     "text": [
      "[1, 3, 4, 8]\n"
     ]
    }
   ],
   "source": [
    "data_23_1 = [1, 2, 3, 4, 5, 6, 7, 8, 19, 20]\n",
    "s1 = pd.Series(data_23_1)\n",
    "\n",
    "data_23_2 = [2, 5, 10, 4, 19]\n",
    "s2 = pd.Series(data_23_2)\n",
    "\n",
    "mask=s1.isin(s2)\n",
    "position=s1[mask].index.tolist()\n",
    "print(position)"
   ]
  },
  {
   "cell_type": "markdown",
   "id": "9817080a-92ff-493f-b99d-304e8c7c81dd",
   "metadata": {},
   "source": [
    "# 24. Write a Pandas program convert the first and last character of each word to upper\n",
    "case in each word of a given series.\n",
    "Sample Output:\n",
    "Original Series:\n",
    "0 php\n",
    "1 python\n",
    "2 java\n",
    "3 c#\n",
    "dtype: object\n",
    "First and last character of each word to upper case:\n",
    "0 PhP\n",
    "1 PythoN\n",
    "2 JavA\n",
    "3 C#\n",
    "dtype: object"
   ]
  },
  {
   "cell_type": "code",
   "execution_count": 125,
   "id": "c2d80d79-0f19-4dd8-b14a-f2284012a836",
   "metadata": {},
   "outputs": [
    {
     "data": {
      "text/plain": [
       "0       PhP\n",
       "1    PythoN\n",
       "2      JavA\n",
       "3         C\n",
       "dtype: object"
      ]
     },
     "execution_count": 125,
     "metadata": {},
     "output_type": "execute_result"
    }
   ],
   "source": [
    "data_24 = ['php', 'python', 'java', 'c']\n",
    "original = pd.Series(data_24)\n",
    "\n",
    "def first_last_upper(word):\n",
    "    if len(word)>1:\n",
    "        return word[0].upper() + word[1:-1]+ word[-1].upper()\n",
    "    elif len(word)==1:\n",
    "        return word.upper()\n",
    "    else:\n",
    "        return word\n",
    "\n",
    "modifide=original.apply(first_last_upper)\n",
    "modifide\n",
    "    \n"
   ]
  },
  {
   "cell_type": "markdown",
   "id": "d02b8e6f-fee8-4331-b97f-3d765bc2d893",
   "metadata": {},
   "source": [
    "# 25. Write a Pandas program to calculate the number of characters in each word in a given\n",
    "series.\n",
    "Sample Output:\n",
    "Original Series:\n",
    "0 Php\n",
    "1 Python\n",
    "2 Java\n",
    "3 C#\n",
    "dtype: object\n",
    "Number of characters in each word in the said series:\n",
    "0 3\n",
    "1 6\n",
    "2 4\n",
    "3 2\n",
    "dtype: int64"
   ]
  },
  {
   "cell_type": "code",
   "execution_count": 128,
   "id": "fa175734-2780-442b-98b1-869881a1fb9b",
   "metadata": {},
   "outputs": [
    {
     "data": {
      "text/plain": [
       "0    3\n",
       "1    6\n",
       "2    4\n",
       "3    1\n",
       "dtype: int64"
      ]
     },
     "execution_count": 128,
     "metadata": {},
     "output_type": "execute_result"
    }
   ],
   "source": [
    "data_24 = ['php', 'python', 'java', 'c']\n",
    "original = pd.Series(data_24)\n",
    "char_counts = original.str.len()\n",
    "char_counts\n",
    "\n"
   ]
  },
  {
   "cell_type": "markdown",
   "id": "bb284065-4caa-4771-a86a-860e30a709b5",
   "metadata": {},
   "source": [
    "# 26. Write a Pandas program to compute difference of differences between consecutive numbers of a given series."
   ]
  },
  {
   "cell_type": "code",
   "execution_count": null,
   "id": "a52af90a-0fd9-4c53-89cf-79503daf2e7b",
   "metadata": {},
   "outputs": [],
   "source": []
  },
  {
   "cell_type": "markdown",
   "id": "f3069afc-4680-419c-9984-605cb95cec96",
   "metadata": {},
   "source": [
    "# 27. Write a Pandas program to convert a series of date strings to a timeseries."
   ]
  },
  {
   "cell_type": "code",
   "execution_count": 15,
   "id": "d852ef8f-b0a3-4d9f-aa9d-5e5da0ff51b3",
   "metadata": {},
   "outputs": [
    {
     "data": {
      "text/plain": [
       "0   2015-01-01\n",
       "1   2016-10-09\n",
       "2   2016-05-04\n",
       "3   2016-04-12\n",
       "dtype: datetime64[ns]"
      ]
     },
     "execution_count": 15,
     "metadata": {},
     "output_type": "execute_result"
    }
   ],
   "source": [
    "data_27 = ['01 Jan 2015', '10-09-2016', '2016/05/04', '2016-04-12']\n",
    "original = pd.Series(data_27)\n",
    "timeseries = pd.to_datetime(original, format='mixed')\n",
    "timeseries\n"
   ]
  },
  {
   "cell_type": "markdown",
   "id": "513aeabb-8e86-4555-bcc2-652a26d93cfa",
   "metadata": {},
   "source": [
    "# 28. Write a Pandas program to get the day of month, day of year, week number and day\n",
    "of week from a given series of date strings.\n",
    "Sample Output:\n",
    "Original Series:\n",
    "0 01 Jan 2015\n",
    "1 10-02-2016\n",
    "2 20180307\n",
    "3 2014/05/06\n",
    "4 2016-04-12\n",
    "5 2019-04-06T11:20\n",
    "dtype: object\n",
    "Day of month:\n",
    "[1, 2, 7, 6, 12, 6]\n",
    "Day of year:\n",
    "[1, 276, 66, 126, 103, 96]\n",
    "Week number:\n",
    "[1, 39, 10, 19, 15, 14]\n",
    "Day of week:\n",
    "['Thursday', 'Sunday', 'Wednesday', 'Tuesday', 'Tuesday', 'Saturday']"
   ]
  },
  {
   "cell_type": "code",
   "execution_count": 22,
   "id": "646e2481-a723-4945-a65c-f8d6b5f78a1b",
   "metadata": {},
   "outputs": [
    {
     "name": "stdout",
     "output_type": "stream",
     "text": [
      "0         01 Jan 2015\n",
      "1          10-02-2016\n",
      "2            20180307\n",
      "3          2014/05/06\n",
      "4          2016-04-12\n",
      "5    2019-04-06T11:20\n",
      "dtype: object\n",
      "\n",
      "Day of month:\n",
      "[1, 2, 7, 6, 12, 6]\n",
      "\n",
      "Day of year:\n",
      "[1, 276, 66, 126, 103, 96]\n",
      "\n",
      "Week number:\n",
      "[1, 39, 10, 19, 15, 14]\n",
      "\n",
      "Day of week:\n",
      "['Thursday', 'Sunday', 'Wednesday', 'Tuesday', 'Tuesday', 'Saturday']\n"
     ]
    }
   ],
   "source": [
    "data = ['01 Jan 2015', '10-02-2016', '20180307', '2014/05/06', '2016-04-12', '2019-04-06T11:20']\n",
    "original = pd.Series(data)\n",
    "print(original)\n",
    "dates = pd.to_datetime(original, format='mixed', errors='coerce')\n",
    "day_of_month = dates.dt.day\n",
    "day_of_year = dates.dt.dayofyear\n",
    "week_number = dates.dt.isocalendar().week\n",
    "day_of_week = dates.dt.day_name()\n",
    "\n",
    "print(\"\\nDay of month:\")\n",
    "print(day_of_month.tolist())\n",
    "\n",
    "print(\"\\nDay of year:\")\n",
    "print(day_of_year.tolist())\n",
    "\n",
    "print(\"\\nWeek number:\")\n",
    "print(week_number.tolist())\n",
    "\n",
    "print(\"\\nDay of week:\")\n",
    "print(day_of_week.tolist())"
   ]
  },
  {
   "cell_type": "code",
   "execution_count": 24,
   "id": "4e83d95b-ddda-4bcd-b8d0-5a992d87ae64",
   "metadata": {},
   "outputs": [
    {
     "name": "stdout",
     "output_type": "stream",
     "text": [
      "0    Jan 2015\n",
      "1    Feb 2016\n",
      "2    Mar 2017\n",
      "3    Apr 2018\n",
      "4    May 2019\n",
      "dtype: object\n",
      "\n",
      "Converted Dates (Day = 15):\n",
      "0   2015-01-15\n",
      "1   2016-02-15\n",
      "2   2017-03-15\n",
      "3   2018-04-15\n",
      "4   2019-05-15\n",
      "dtype: datetime64[ns]\n"
     ]
    },
    {
     "name": "stderr",
     "output_type": "stream",
     "text": [
      "/var/folders/zs/rgm7kj4s3bb8xy2q5rcm2pnh0000gn/T/ipykernel_1196/56572957.py:5: UserWarning: Could not infer format, so each element will be parsed individually, falling back to `dateutil`. To ensure parsing is consistent and as-expected, please specify a format.\n",
      "  dates = pd.to_datetime(original) + pd.offsets.Day(day - 1)\n"
     ]
    }
   ],
   "source": [
    "\n",
    "data = ['Jan 2015', 'Feb 2016', 'Mar 2017', 'Apr 2018', 'May 2019']\n",
    "original = pd.Series(data)\n",
    "print(original)\n",
    "day = 15\n",
    "dates = pd.to_datetime(original) + pd.offsets.Day(day - 1)\n",
    "print(\"\\nConverted Dates (Day = 15):\")\n",
    "print(dates)\n"
   ]
  },
  {
   "cell_type": "markdown",
   "id": "879a3ad7-c9ec-4d08-846e-385f52110556",
   "metadata": {},
   "source": [
    "# 30. Write a Pandas program to filter words from a given series that contain atleast two\n",
    "vowels.\n",
    "Sample Output:\n",
    "Original Series:\n",
    "0 Red\n",
    "1 Green\n",
    "2 Orange\n",
    "3 Pink\n",
    "4 Yellow\n",
    "5 White\n",
    "dtype: object\n",
    "Filtered words:\n",
    "1 Green\n",
    "2 Orange\n",
    "4 Yellow\n",
    "5 White\n",
    "dtype: object"
   ]
  },
  {
   "cell_type": "code",
   "execution_count": 27,
   "id": "bb7542a2-ced4-468f-add4-a8e680bcd13c",
   "metadata": {},
   "outputs": [
    {
     "name": "stdout",
     "output_type": "stream",
     "text": [
      "Original Series:\n",
      "0       Red\n",
      "1     Green\n",
      "2    Orange\n",
      "3      Pink\n",
      "4    Yellow\n",
      "5     White\n",
      "dtype: object\n",
      "\n",
      "Filtered words:\n",
      "1     Green\n",
      "2    Orange\n",
      "4    Yellow\n",
      "5     White\n",
      "dtype: object\n"
     ]
    }
   ],
   "source": [
    "\n",
    "data = ['Red', 'Green', 'Orange', 'Pink', 'Yellow', 'White']\n",
    "original = pd.Series(data)\n",
    "print(\"Original Series:\")\n",
    "print(original)\n",
    "def has_two_or_more_vowels(word):\n",
    "    vowels = 'aeiouAEIOU'\n",
    "    count = sum(1 for ch in word if ch in vowels)\n",
    "    return count >= 2\n",
    "filtered = original[original.apply(has_two_or_more_vowels)]\n",
    "print(\"\\nFiltered words:\")\n",
    "print(filtered)\n"
   ]
  },
  {
   "cell_type": "markdown",
   "id": "1588e51b-0409-49e5-a517-41c96a5984b1",
   "metadata": {},
   "source": [
    "# 31. Write a Pandas program to compute the Euclidean distance between two given series.\n",
    "Euclidean distance\n",
    "From Wikipedia,\n",
    "In mathematics, the Euclidean distance or Euclidean metric is the \"ordinary\" straight-line\n",
    "distance between two points in Euclidean space. With this distance, Euclidean space\n",
    "becomes a metric space. The associated norm is called the Euclidean norm."
   ]
  },
  {
   "cell_type": "code",
   "execution_count": 30,
   "id": "6a0a1b7d-2ca3-4cd3-9269-dc8e42f64e06",
   "metadata": {},
   "outputs": [
    {
     "name": "stdout",
     "output_type": "stream",
     "text": [
      "0     1\n",
      "1     2\n",
      "2     3\n",
      "3     4\n",
      "4     5\n",
      "5     6\n",
      "6     7\n",
      "7     8\n",
      "8     9\n",
      "9    10\n",
      "dtype: int64\n",
      "0    8\n",
      "1    7\n",
      "2    5\n",
      "3    6\n",
      "4    5\n",
      "5    3\n",
      "6    4\n",
      "7    7\n",
      "8    1\n",
      "dtype: int64\n",
      "\n",
      "Euclidean distance between two said series:\n",
      "12.84523257866513\n"
     ]
    }
   ],
   "source": [
    "\n",
    "series1 = pd.Series([1, 2, 3, 4, 5, 6, 7, 8, 9, 10])\n",
    "series2 = pd.Series([8, 7, 5, 6, 5, 3, 4, 7, 1])\n",
    "print(series1)\n",
    "print(series2)\n",
    "\n",
    "# Compute Euclidean distance\n",
    "distance = np.sqrt(np.sum((series1 - series2) ** 2))\n",
    "\n",
    "print(\"\\nEuclidean distance between two said series:\")\n",
    "print(distance)\n"
   ]
  },
  {
   "cell_type": "markdown",
   "id": "92416feb-b221-49e7-a14c-1e605bb7c8a1",
   "metadata": {},
   "source": [
    "# 32. Write a Pandas program to find the positions of the values neighboured by smaller\n",
    "values on both sides in a given series.\n",
    "Sample Output:\n",
    "Original series:\n",
    "0 1\n",
    "1 8\n",
    "2 7\n",
    "3 5\n",
    "4 6\n",
    "5 5\n",
    "6 3\n",
    "7 4\n",
    "8 7\n",
    "9 1\n",
    "dtype: int64\n",
    "Positions of the values surrounded by smaller values on both sides:"
   ]
  },
  {
   "cell_type": "code",
   "execution_count": 33,
   "id": "7a8e459b-8aee-464a-974d-e374cf662a6b",
   "metadata": {},
   "outputs": [
    {
     "name": "stdout",
     "output_type": "stream",
     "text": [
      "Original series:\n",
      "0    1\n",
      "1    8\n",
      "2    7\n",
      "3    5\n",
      "4    6\n",
      "5    5\n",
      "6    3\n",
      "7    4\n",
      "8    7\n",
      "9    1\n",
      "dtype: int64\n",
      "Positions of the values surrounded by smaller values on both sides:\n",
      "[1 4 8]\n"
     ]
    }
   ],
   "source": [
    "\n",
    "data = [1, 8, 7, 5, 6, 5, 3, 4, 7, 1]\n",
    "original = pd.Series(data)\n",
    "print(\"Original series:\")\n",
    "print(original)\n",
    "\n",
    "# Find positions where value is greater than neighbors on both sides\n",
    "positions = np.where((original.shift(1) < original) & (original.shift(-1) < original))[0]\n",
    "\n",
    "print(\"Positions of the values surrounded by smaller values on both sides:\")\n",
    "print(positions)\n"
   ]
  },
  {
   "cell_type": "markdown",
   "id": "2aa3f0d1-8d98-458e-bfef-58407dfcc301",
   "metadata": {},
   "source": [
    "# 33. Write a Pandas program to replace missing white spaces in a given string with the\n",
    "least frequent character.\n",
    "Sample Output:\n",
    "Original series:\n",
    "abc def abcdef icd\n",
    "c 3\n",
    "d 3\n",
    "3\n",
    "b 2\n",
    "e 2\n",
    "a 2\n",
    "f 2\n",
    "i 1\n",
    "dtype: int64\n",
    "abcidefiabcdefiicd"
   ]
  },
  {
   "cell_type": "code",
   "execution_count": 36,
   "id": "22dbfd35-e26e-4d7b-ad73-919a29485590",
   "metadata": {},
   "outputs": [
    {
     "name": "stdout",
     "output_type": "stream",
     "text": [
      "Original series:\n",
      "abc def abcdef icd\n",
      "\n",
      "Character frequencies:\n",
      "c    3\n",
      "d    3\n",
      "a    2\n",
      "b    2\n",
      "e    2\n",
      "f    2\n",
      "i    1\n",
      "Name: count, dtype: int64\n",
      "\n",
      "String after replacing spaces with least frequent character:\n",
      "abcidefiabcdefiicd\n"
     ]
    }
   ],
   "source": [
    "\n",
    "data = pd.Series(['abc def abcdef icd'])\n",
    "print(data[0])\n",
    "\n",
    "# Remove spaces and count character frequency\n",
    "char_freq = pd.Series(list(data[0].replace(\" \", \"\"))).value_counts()\n",
    "print(\"\\nCharacter frequencies:\")\n",
    "print(char_freq)\n",
    "\n",
    "# Find the least frequent character\n",
    "least_freq_char = char_freq.index[-1]\n",
    "\n",
    "# Replace spaces with the least frequent character\n",
    "result = data[0].replace(\" \", least_freq_char)\n",
    "print(\"\\nString after replacing spaces with least frequent character:\")\n",
    "print(result)\n"
   ]
  },
  {
   "cell_type": "markdown",
   "id": "37390d84-a089-415a-845b-9299c116034b",
   "metadata": {},
   "source": [
    "# 34. Write a Pandas program to compute the autocorrelations of a given numeric series.\n",
    "From Wikipedia:\n",
    "Autocorrelation, also known as serial correlation, is the correlation of a signal with a\n",
    "delayed copy of itself as a function of delay. Informally, it is the similarity between\n",
    "observations as a function of the time lag between them.\n",
    "Sample Output:\n",
    "Original series:\n",
    "0 13.207262\n",
    "1 4.098685\n",
    "2 -1.435534\n",
    "3 13.626760\n",
    "...\n",
    "13 -2.346193\n",
    "14 17.873884\n",
    "dtype: float64\n",
    "Autocorrelations of the said series:\n",
    "[-0.38, 0.1, -0.43, 0.03, 0.35, -0.2, 0.04, -0.59, 0.34, 0.11]"
   ]
  },
  {
   "cell_type": "code",
   "execution_count": 39,
   "id": "f527c95a-64bb-476a-bd7c-1a8de24108f5",
   "metadata": {},
   "outputs": [
    {
     "name": "stdout",
     "output_type": "stream",
     "text": [
      "Original series:\n",
      "0     13.207262\n",
      "1      4.098685\n",
      "2     -1.435534\n",
      "3     13.626760\n",
      "4      5.216809\n",
      "5      8.578997\n",
      "6     11.320204\n",
      "7      4.392370\n",
      "8     10.273274\n",
      "9     20.952738\n",
      "10     9.689716\n",
      "11     3.464524\n",
      "12    -2.346193\n",
      "13    17.873884\n",
      "dtype: float64\n",
      "\n",
      "Autocorrelations of the said series:\n",
      "[-0.16, -0.46, -0.11, 0.13, 0.18, 0.05, -0.37, -0.14, 0.11, 0.93]\n"
     ]
    }
   ],
   "source": [
    "\n",
    "data = pd.Series([13.207262, 4.098685, -1.435534, 13.626760, 5.216809, 8.578997, \n",
    "                  11.320204, 4.392370, 10.273274, 20.952738, 9.689716, 3.464524, \n",
    "                  -2.346193, 17.873884])\n",
    "\n",
    "print(\"Original series:\")\n",
    "print(data)\n",
    "\n",
    "# Compute autocorrelations for different lags (1 to 10)\n",
    "autocorrs = [round(data.autocorr(lag=i), 2) for i in range(1, 11)]\n",
    "\n",
    "print(\"\\nAutocorrelations of the said series:\")\n",
    "print(autocorrs)\n"
   ]
  },
  {
   "cell_type": "markdown",
   "id": "76e45aaf-861c-41d0-bb92-e865225468d9",
   "metadata": {},
   "source": [
    "# 35. Write a Pandas program to create a TimeSeries to display all the Sundays of given\n",
    "year.\n",
    "Sample Output:\n",
    "All Sundays of 2019:\n",
    "0 2020-01-05\n",
    "1 2020-01-12\n",
    "2 2020-01-19\n",
    "3 2020-01-26\n",
    "4 2020-02-02\n",
    "5 2020-02-09\n",
    ".....\n",
    "48 2020-12-06\n",
    "49 2020-12-13\n",
    "50 2020-12-20\n",
    "51 2020-12-27\n",
    "dtype: datetime64[ns]"
   ]
  },
  {
   "cell_type": "code",
   "execution_count": 42,
   "id": "56d195c9-88b0-429a-9574-06bc2c40e801",
   "metadata": {},
   "outputs": [
    {
     "name": "stdout",
     "output_type": "stream",
     "text": [
      "All Sundays of 2020:\n",
      "DatetimeIndex(['2020-01-05', '2020-01-12', '2020-01-19', '2020-01-26',\n",
      "               '2020-02-02', '2020-02-09', '2020-02-16', '2020-02-23',\n",
      "               '2020-03-01', '2020-03-08', '2020-03-15', '2020-03-22',\n",
      "               '2020-03-29', '2020-04-05', '2020-04-12', '2020-04-19',\n",
      "               '2020-04-26', '2020-05-03', '2020-05-10', '2020-05-17',\n",
      "               '2020-05-24', '2020-05-31', '2020-06-07', '2020-06-14',\n",
      "               '2020-06-21', '2020-06-28', '2020-07-05', '2020-07-12',\n",
      "               '2020-07-19', '2020-07-26', '2020-08-02', '2020-08-09',\n",
      "               '2020-08-16', '2020-08-23', '2020-08-30', '2020-09-06',\n",
      "               '2020-09-13', '2020-09-20', '2020-09-27', '2020-10-04',\n",
      "               '2020-10-11', '2020-10-18', '2020-10-25', '2020-11-01',\n",
      "               '2020-11-08', '2020-11-15', '2020-11-22', '2020-11-29',\n",
      "               '2020-12-06', '2020-12-13', '2020-12-20', '2020-12-27'],\n",
      "              dtype='datetime64[ns]', freq='W-SUN')\n"
     ]
    }
   ],
   "source": [
    "\n",
    "year = 2020\n",
    "\n",
    "# Generate all Sundays of the given year\n",
    "sundays = pd.date_range(start=f'{year}-01-01', end=f'{year}-12-31', freq='W-SUN')\n",
    "print(f\"All Sundays of {year}:\")\n",
    "print(sundays)\n"
   ]
  },
  {
   "cell_type": "markdown",
   "id": "96ca360d-7f6f-4eba-9854-998faa57e7bd",
   "metadata": {},
   "source": [
    "# 36. Write a Pandas program to convert given series into a dataframe with its index as\n",
    "another column on the dataframe.\n",
    "Sample Output:\n",
    "index 0\n",
    "0 A 0\n",
    "1 B 1\n",
    "2 C 2\n",
    "3 D 3\n",
    "4 E 4"
   ]
  },
  {
   "cell_type": "code",
   "execution_count": 47,
   "id": "5d0baae1-5527-4aa6-a763-ab4173d81a1e",
   "metadata": {},
   "outputs": [
    {
     "name": "stdout",
     "output_type": "stream",
     "text": [
      "Original Series:\n",
      "0    A\n",
      "1    B\n",
      "2    C\n",
      "3    D\n",
      "4    E\n",
      "dtype: object\n",
      "Converted DataFrame:\n",
      "   index  0\n",
      "0      0  A\n",
      "1      1  B\n",
      "2      2  C\n",
      "3      3  D\n",
      "4      4  E\n"
     ]
    }
   ],
   "source": [
    "\n",
    "s = pd.Series(['A', 'B', 'C', 'D', 'E'])\n",
    "print(\"Original Series:\")\n",
    "print(s)\n",
    "\n",
    "# Convert Series to DataFrame with index as a column\n",
    "df = s.reset_index()\n",
    "df.columns = ['index', 0]  # Rename columns to match sample output\n",
    "\n",
    "print(\"Converted DataFrame:\")\n",
    "print(df)\n"
   ]
  },
  {
   "cell_type": "markdown",
   "id": "c05b8689-c9b5-40b2-8f16-f66333c69aff",
   "metadata": {},
   "source": [
    "# 37. Write a Pandas program to stack two given series vertically and horizontally."
   ]
  },
  {
   "cell_type": "code",
   "execution_count": 52,
   "id": "053c2da3-bb18-4ac3-ade4-625e06aec88e",
   "metadata": {},
   "outputs": [
    {
     "name": "stdout",
     "output_type": "stream",
     "text": [
      "0    0\n",
      "1    1\n",
      "2    2\n",
      "3    3\n",
      "4    4\n",
      "5    5\n",
      "6    6\n",
      "7    7\n",
      "8    8\n",
      "9    9\n",
      "dtype: int64\n",
      "0    p\n",
      "1    q\n",
      "2    r\n",
      "3    s\n",
      "4    t\n",
      "5    u\n",
      "6    v\n",
      "7    w\n",
      "8    x\n",
      "9    y\n",
      "dtype: object\n",
      "Vertical Stack:\n",
      "0     0\n",
      "1     1\n",
      "2     2\n",
      "3     3\n",
      "4     4\n",
      "5     5\n",
      "6     6\n",
      "7     7\n",
      "8     8\n",
      "9     9\n",
      "10    p\n",
      "11    q\n",
      "12    r\n",
      "13    s\n",
      "14    t\n",
      "15    u\n",
      "16    v\n",
      "17    w\n",
      "18    x\n",
      "19    y\n",
      "dtype: object\n",
      "Horizontal Stack:\n",
      "   0  1\n",
      "0  0  p\n",
      "1  1  q\n",
      "2  2  r\n",
      "3  3  s\n",
      "4  4  t\n",
      "5  5  u\n",
      "6  6  v\n",
      "7  7  w\n",
      "8  8  x\n",
      "9  9  y\n"
     ]
    }
   ],
   "source": [
    "\n",
    "s1 = pd.Series(range(10))  # 0 to 9\n",
    "s2 = pd.Series(list('pqrstuvwxy'))  # p to y\n",
    "print(s1)\n",
    "print(s2)\n",
    "\n",
    "# Vertical stack (concatenate)\n",
    "vertical_stack = pd.concat([s1, s2], ignore_index=True)\n",
    "print(\"Vertical Stack:\")\n",
    "print(vertical_stack)\n",
    "\n",
    "# Horizontal stack (as columns in a DataFrame)\n",
    "horizontal_stack = pd.concat([s1, s2], axis=1)\n",
    "print(\"Horizontal Stack:\")\n",
    "print(horizontal_stack)\n"
   ]
  },
  {
   "cell_type": "markdown",
   "id": "3f8dbad1-76f8-4f6a-97ca-4d2f306fb69d",
   "metadata": {},
   "source": [
    "# 38. Write a Pandas program to check the equality of two given series."
   ]
  },
  {
   "cell_type": "code",
   "execution_count": 55,
   "id": "8ecabe5e-2773-482f-b4d0-fac6609bdcb6",
   "metadata": {},
   "outputs": [
    {
     "name": "stdout",
     "output_type": "stream",
     "text": [
      "0    1\n",
      "1    8\n",
      "2    7\n",
      "3    5\n",
      "4    6\n",
      "5    5\n",
      "6    3\n",
      "7    4\n",
      "8    7\n",
      "9    1\n",
      "dtype: int64\n",
      "0    1\n",
      "1    8\n",
      "2    7\n",
      "3    5\n",
      "4    6\n",
      "5    5\n",
      "6    3\n",
      "7    4\n",
      "8    7\n",
      "9    1\n",
      "dtype: int64\n",
      "Check 2 series are equal or not?\n",
      "0    True\n",
      "1    True\n",
      "2    True\n",
      "3    True\n",
      "4    True\n",
      "5    True\n",
      "6    True\n",
      "7    True\n",
      "8    True\n",
      "9    True\n",
      "dtype: bool\n"
     ]
    }
   ],
   "source": [
    "\n",
    "s1 = pd.Series([1, 8, 7, 5, 6, 5, 3, 4, 7, 1])\n",
    "s2 = pd.Series([1, 8, 7, 5, 6, 5, 3, 4, 7, 1])\n",
    "print(s1)\n",
    "print(s2)\n",
    "\n",
    "# Check equality element-wise\n",
    "equality = s1 == s2\n",
    "\n",
    "print(\"Check 2 series are equal or not?\")\n",
    "print(equality)\n"
   ]
  },
  {
   "cell_type": "markdown",
   "id": "7cd463ef-c844-4b3d-b1da-4530c2a32356",
   "metadata": {},
   "source": [
    "#  39. Write a Pandas program to find the index of the first occurrence of the smallest and\n",
    "largest value of a given series.\n",
    "Sample Output:\n",
    "Original Series:\n",
    "0 1\n",
    "1 3\n",
    "2 7\n",
    ".....\n",
    "7 1\n",
    "8 9\n",
    "9 0\n",
    "dtype: int64\n",
    "Index of the first occurrence of the smallest and largest value of the said\n",
    "series:\n",
    "9\n",
    "4"
   ]
  },
  {
   "cell_type": "code",
   "execution_count": 58,
   "id": "c8206801-1870-42b8-8cd3-14a01390c60f",
   "metadata": {},
   "outputs": [
    {
     "name": "stdout",
     "output_type": "stream",
     "text": [
      "0    1\n",
      "1    3\n",
      "2    7\n",
      "3    5\n",
      "4    9\n",
      "5    2\n",
      "6    4\n",
      "7    1\n",
      "8    6\n",
      "9    0\n",
      "dtype: int64\n",
      "Index of the first occurrence of the smallest and largest value of the said series:\n",
      "9\n",
      "4\n"
     ]
    }
   ],
   "source": [
    "\n",
    "s = pd.Series([1, 3, 7, 5, 9, 2, 4, 1, 6, 0])\n",
    "print(s)\n",
    "\n",
    "# Index of first occurrence of smallest value\n",
    "min_index = s.idxmin()\n",
    "\n",
    "# Index of first occurrence of largest value\n",
    "max_index = s.idxmax()\n",
    "\n",
    "print(\"Index of the first occurrence of the smallest and largest value of the said series:\")\n",
    "print(min_index)\n",
    "print(max_index)\n"
   ]
  },
  {
   "cell_type": "markdown",
   "id": "b467d3e1-58dd-4a47-bd33-f00e0f88b174",
   "metadata": {},
   "source": [
    "# 40. Write a Pandas program to check inequality over the index axis of a given dataframe\n",
    "and a given series."
   ]
  },
  {
   "cell_type": "code",
   "execution_count": 61,
   "id": "f5c94612-562f-4f63-9a2b-855a6ddeb58e",
   "metadata": {},
   "outputs": [
    {
     "name": "stdout",
     "output_type": "stream",
     "text": [
      "      W     X   Y   Z\n",
      "0  68.0  78.0  84  86\n",
      "1  75.0  75.0  94  97\n",
      "2  86.0   NaN  89  96\n",
      "3  80.0  80.0  86  72\n",
      "4   NaN  86.0  86  83\n",
      "\n",
      "Original Series:\n",
      "0    68.0\n",
      "1    75.0\n",
      "2    86.0\n",
      "3    80.0\n",
      "4     NaN\n",
      "dtype: float64\n",
      "\n",
      "Check for inequality of the said series & dataframe:\n",
      "       W      X     Y     Z\n",
      "0  False   True  True  True\n",
      "1  False  False  True  True\n",
      "2  False   True  True  True\n",
      "3  False  False  True  True\n",
      "4   True   True  True  True\n"
     ]
    }
   ],
   "source": [
    "\n",
    "df = pd.DataFrame({\n",
    "    'W': [68, 75, 86, 80, np.nan],\n",
    "    'X': [78, 75, np.nan, 80, 86],\n",
    "    'Y': [84, 94, 89, 86, 86],\n",
    "    'Z': [86, 97, 96, 72, 83]\n",
    "})\n",
    "print(df)\n",
    "s = pd.Series([68, 75, 86, 80, np.nan])\n",
    "print(\"\\nOriginal Series:\")\n",
    "print(s)\n",
    "\n",
    "# Check inequality along index axis\n",
    "inequality = df.ne(s, axis=0)  # ne = not equal, axis=0 aligns index\n",
    "print(\"\\nCheck for inequality of the said series & dataframe:\")\n",
    "print(inequality)\n"
   ]
  },
  {
   "cell_type": "code",
   "execution_count": null,
   "id": "34d4657b-fdb6-4ed9-b833-9553afbd0a7c",
   "metadata": {},
   "outputs": [],
   "source": []
  }
 ],
 "metadata": {
  "kernelspec": {
   "display_name": "Python [conda env:base] *",
   "language": "python",
   "name": "conda-base-py"
  },
  "language_info": {
   "codemirror_mode": {
    "name": "ipython",
    "version": 3
   },
   "file_extension": ".py",
   "mimetype": "text/x-python",
   "name": "python",
   "nbconvert_exporter": "python",
   "pygments_lexer": "ipython3",
   "version": "3.12.7"
  }
 },
 "nbformat": 4,
 "nbformat_minor": 5
}
