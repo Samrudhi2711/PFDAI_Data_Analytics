{
 "cells": [
  {
   "cell_type": "code",
   "execution_count": 122,
   "id": "a45205f7-5ea6-4080-8ad7-024f489a2914",
   "metadata": {},
   "outputs": [],
   "source": [
    "import numpy as np\n",
    "import matplotlib.pyplot as plt"
   ]
  },
  {
   "cell_type": "markdown",
   "id": "2bd68cba-d82e-4fc6-be69-6c458203a9c1",
   "metadata": {},
   "source": [
    "# 1. Get the numpy version and show numpy build configuration"
   ]
  },
  {
   "cell_type": "code",
   "execution_count": 8,
   "id": "5fbf9975-2ee2-4f08-b50a-ce6ff9f7c925",
   "metadata": {},
   "outputs": [
    {
     "name": "stdout",
     "output_type": "stream",
     "text": [
      "NumPy version: 1.26.4\n"
     ]
    }
   ],
   "source": [
    "print(\"NumPy version:\", np.__version__)"
   ]
  },
  {
   "cell_type": "code",
   "execution_count": 10,
   "id": "e32ef0b5-b2a5-4a33-8109-6b7c1b2c9341",
   "metadata": {},
   "outputs": [
    {
     "name": "stdout",
     "output_type": "stream",
     "text": [
      "Build Dependencies:\n",
      "  blas:\n",
      "    detection method: pkgconfig\n",
      "    found: true\n",
      "    include directory: /opt/anaconda3/include\n",
      "    lib directory: /opt/anaconda3/lib\n",
      "    name: openblas\n",
      "    openblas configuration: USE_64BITINT= DYNAMIC_ARCH=1 DYNAMIC_OLDER= NO_CBLAS=\n",
      "      NO_LAPACK=0 NO_LAPACKE= NO_AFFINITY=1 USE_OPENMP=0 VORTEX MAX_THREADS=128\n",
      "    pc file directory: /opt/anaconda3/lib/pkgconfig\n",
      "    version: 0.3.21\n",
      "  lapack:\n",
      "    detection method: internal\n",
      "    found: true\n",
      "    include directory: unknown\n",
      "    lib directory: unknown\n",
      "    name: dep4347739648\n",
      "    openblas configuration: unknown\n",
      "    pc file directory: unknown\n",
      "    version: 1.26.4\n",
      "Compilers:\n",
      "  c:\n",
      "    args: -ftree-vectorize, -fPIC, -fPIE, -fstack-protector-strong, -O2, -pipe, -isystem,\n",
      "      /opt/anaconda3/include, -fdebug-prefix-map=/var/folders/k1/30mswbxs7r1g6zwn8y4fyt500000gp/T/abs_a51i_mbs7m/croot/numpy_and_numpy_base_1708638620867/work=/usr/local/src/conda/numpy-base-1.26.4,\n",
      "      -fdebug-prefix-map=/opt/anaconda3=/usr/local/src/conda-prefix, -D_FORTIFY_SOURCE=2,\n",
      "      -isystem, /opt/anaconda3/include, -mmacosx-version-min=11.1\n",
      "    commands: arm64-apple-darwin20.0.0-clang\n",
      "    linker: ld64\n",
      "    linker args: -Wl,-pie, -Wl,-headerpad_max_install_names, -Wl,-dead_strip_dylibs,\n",
      "      -Wl,-rpath,/opt/anaconda3/lib, -L/opt/anaconda3/lib, -ftree-vectorize, -fPIC,\n",
      "      -fPIE, -fstack-protector-strong, -O2, -pipe, -isystem, /opt/anaconda3/include,\n",
      "      -fdebug-prefix-map=/var/folders/k1/30mswbxs7r1g6zwn8y4fyt500000gp/T/abs_a51i_mbs7m/croot/numpy_and_numpy_base_1708638620867/work=/usr/local/src/conda/numpy-base-1.26.4,\n",
      "      -fdebug-prefix-map=/opt/anaconda3=/usr/local/src/conda-prefix, -D_FORTIFY_SOURCE=2,\n",
      "      -isystem, /opt/anaconda3/include, -mmacosx-version-min=11.1\n",
      "    name: clang\n",
      "    version: 14.0.6\n",
      "  c++:\n",
      "    args: -ftree-vectorize, -fPIC, -fPIE, -fstack-protector-strong, -O2, -pipe, -stdlib=libc++,\n",
      "      -fvisibility-inlines-hidden, -fmessage-length=0, -isystem, /opt/anaconda3/include,\n",
      "      -fdebug-prefix-map=/var/folders/k1/30mswbxs7r1g6zwn8y4fyt500000gp/T/abs_a51i_mbs7m/croot/numpy_and_numpy_base_1708638620867/work=/usr/local/src/conda/numpy-base-1.26.4,\n",
      "      -fdebug-prefix-map=/opt/anaconda3=/usr/local/src/conda-prefix, -D_FORTIFY_SOURCE=2,\n",
      "      -isystem, /opt/anaconda3/include, -mmacosx-version-min=11.1\n",
      "    commands: arm64-apple-darwin20.0.0-clang++\n",
      "    linker: ld64\n",
      "    linker args: -Wl,-pie, -Wl,-headerpad_max_install_names, -Wl,-dead_strip_dylibs,\n",
      "      -Wl,-rpath,/opt/anaconda3/lib, -L/opt/anaconda3/lib, -ftree-vectorize, -fPIC,\n",
      "      -fPIE, -fstack-protector-strong, -O2, -pipe, -stdlib=libc++, -fvisibility-inlines-hidden,\n",
      "      -fmessage-length=0, -isystem, /opt/anaconda3/include, -fdebug-prefix-map=/var/folders/k1/30mswbxs7r1g6zwn8y4fyt500000gp/T/abs_a51i_mbs7m/croot/numpy_and_numpy_base_1708638620867/work=/usr/local/src/conda/numpy-base-1.26.4,\n",
      "      -fdebug-prefix-map=/opt/anaconda3=/usr/local/src/conda-prefix, -D_FORTIFY_SOURCE=2,\n",
      "      -isystem, /opt/anaconda3/include, -mmacosx-version-min=11.1\n",
      "    name: clang\n",
      "    version: 14.0.6\n",
      "  cython:\n",
      "    commands: cython\n",
      "    linker: cython\n",
      "    name: cython\n",
      "    version: 3.0.8\n",
      "Machine Information:\n",
      "  build:\n",
      "    cpu: aarch64\n",
      "    endian: little\n",
      "    family: aarch64\n",
      "    system: darwin\n",
      "  host:\n",
      "    cpu: aarch64\n",
      "    endian: little\n",
      "    family: aarch64\n",
      "    system: darwin\n",
      "Python Information:\n",
      "  path: /opt/anaconda3/bin/python\n",
      "  version: '3.12'\n",
      "SIMD Extensions:\n",
      "  baseline:\n",
      "  - NEON\n",
      "  - NEON_FP16\n",
      "  - NEON_VFPV4\n",
      "  - ASIMD\n",
      "  found:\n",
      "  - ASIMDHP\n",
      "  not found:\n",
      "  - ASIMDFHM\n",
      "\n"
     ]
    }
   ],
   "source": [
    "np.show_config()"
   ]
  },
  {
   "cell_type": "markdown",
   "id": "6157a4db-c758-48b9-9627-fe5792fecf11",
   "metadata": {},
   "source": [
    "# 2. Get help on the add function"
   ]
  },
  {
   "cell_type": "code",
   "execution_count": 14,
   "id": "a890e2e5-1f75-438e-b404-6e87f3f0c055",
   "metadata": {},
   "outputs": [
    {
     "name": "stdout",
     "output_type": "stream",
     "text": [
      "\n",
      "Help on np.add function:\n",
      "Help on ufunc:\n",
      "\n",
      "add = <ufunc 'add'>\n",
      "    add(x1, x2, /, out=None, *, where=True, casting='same_kind', order='K', dtype=None, subok=True[, signature, extobj])\n",
      "\n",
      "    Add arguments element-wise.\n",
      "\n",
      "    Parameters\n",
      "    ----------\n",
      "    x1, x2 : array_like\n",
      "        The arrays to be added.\n",
      "        If ``x1.shape != x2.shape``, they must be broadcastable to a common\n",
      "        shape (which becomes the shape of the output).\n",
      "    out : ndarray, None, or tuple of ndarray and None, optional\n",
      "        A location into which the result is stored. If provided, it must have\n",
      "        a shape that the inputs broadcast to. If not provided or None,\n",
      "        a freshly-allocated array is returned. A tuple (possible only as a\n",
      "        keyword argument) must have length equal to the number of outputs.\n",
      "    where : array_like, optional\n",
      "        This condition is broadcast over the input. At locations where the\n",
      "        condition is True, the `out` array will be set to the ufunc result.\n",
      "        Elsewhere, the `out` array will retain its original value.\n",
      "        Note that if an uninitialized `out` array is created via the default\n",
      "        ``out=None``, locations within it where the condition is False will\n",
      "        remain uninitialized.\n",
      "    **kwargs\n",
      "        For other keyword-only arguments, see the\n",
      "        :ref:`ufunc docs <ufuncs.kwargs>`.\n",
      "\n",
      "    Returns\n",
      "    -------\n",
      "    add : ndarray or scalar\n",
      "        The sum of `x1` and `x2`, element-wise.\n",
      "        This is a scalar if both `x1` and `x2` are scalars.\n",
      "\n",
      "    Notes\n",
      "    -----\n",
      "    Equivalent to `x1` + `x2` in terms of array broadcasting.\n",
      "\n",
      "    Examples\n",
      "    --------\n",
      "    >>> np.add(1.0, 4.0)\n",
      "    5.0\n",
      "    >>> x1 = np.arange(9.0).reshape((3, 3))\n",
      "    >>> x2 = np.arange(3.0)\n",
      "    >>> np.add(x1, x2)\n",
      "    array([[  0.,   2.,   4.],\n",
      "           [  3.,   5.,   7.],\n",
      "           [  6.,   8.,  10.]])\n",
      "\n",
      "    The ``+`` operator can be used as a shorthand for ``np.add`` on ndarrays.\n",
      "\n",
      "    >>> x1 = np.arange(9.0).reshape((3, 3))\n",
      "    >>> x2 = np.arange(3.0)\n",
      "    >>> x1 + x2\n",
      "    array([[ 0.,  2.,  4.],\n",
      "           [ 3.,  5.,  7.],\n",
      "           [ 6.,  8., 10.]])\n",
      "\n"
     ]
    }
   ],
   "source": [
    "print(\"\\nHelp on np.add function:\")\n",
    "help(np.add)"
   ]
  },
  {
   "cell_type": "markdown",
   "id": "0a37aff1-47e4-45d0-b10c-7a283eb12721",
   "metadata": {},
   "source": [
    "#  3. Test whether none of the elements of a given array is zero"
   ]
  },
  {
   "cell_type": "code",
   "execution_count": 17,
   "id": "a26a8c78-8fe6-42c5-b065-fabccab155ae",
   "metadata": {},
   "outputs": [
    {
     "data": {
      "text/plain": [
       "True"
      ]
     },
     "execution_count": 17,
     "metadata": {},
     "output_type": "execute_result"
    }
   ],
   "source": [
    "arr=np.array([1,2,3,4,5,6,7,8])\n",
    "np.all(arr)"
   ]
  },
  {
   "cell_type": "markdown",
   "id": "a9c351ef-3c34-476d-8e03-969f4dbb87cf",
   "metadata": {},
   "source": [
    "#  4. Test whether any of the elements of a given array is non-zero"
   ]
  },
  {
   "cell_type": "code",
   "execution_count": 20,
   "id": "ea549a87-b5e2-4c51-a2fd-b667544968a3",
   "metadata": {},
   "outputs": [
    {
     "data": {
      "text/plain": [
       "False"
      ]
     },
     "execution_count": 20,
     "metadata": {},
     "output_type": "execute_result"
    }
   ],
   "source": [
    "arr=np.array([0,0,0])\n",
    "np.any(arr)"
   ]
  },
  {
   "cell_type": "markdown",
   "id": "2ad7eb0f-1b14-4e22-b282-affb6b6b09e7",
   "metadata": {},
   "source": [
    "# 5. Test element-wise for finiteness (not infinity or NaN)"
   ]
  },
  {
   "cell_type": "code",
   "execution_count": 23,
   "id": "a94c8270-2e7b-43ae-8997-133344ee4131",
   "metadata": {},
   "outputs": [
    {
     "name": "stdout",
     "output_type": "stream",
     "text": [
      "Finiteness test: [ True  True  True  True False False False]\n"
     ]
    }
   ],
   "source": [
    "arr2 = np.array([1, 0, -10.5,3.1415,np.inf, -np.inf, np.nan])\n",
    "arr2\n",
    "print(\"Finiteness test:\", np.isfinite(arr2))"
   ]
  },
  {
   "cell_type": "markdown",
   "id": "57ef5a59-813c-4803-bc17-45ef01684969",
   "metadata": {},
   "source": [
    "# 6. Test element-wise for positive or negative infinity"
   ]
  },
  {
   "cell_type": "code",
   "execution_count": 26,
   "id": "93194cd8-3480-4caa-a0fe-b8fc5f8cf089",
   "metadata": {},
   "outputs": [
    {
     "name": "stdout",
     "output_type": "stream",
     "text": [
      "Infinity test: [False False False False  True  True False]\n"
     ]
    }
   ],
   "source": [
    "print(\"Infinity test:\", np.isinf(arr2))"
   ]
  },
  {
   "cell_type": "markdown",
   "id": "7f140a85-075c-40fd-86d8-14cc8439ae02",
   "metadata": {},
   "source": [
    "# 7. Test element-wise for NaN of a given array"
   ]
  },
  {
   "cell_type": "code",
   "execution_count": 30,
   "id": "1ae9d871-9f8c-429a-aa4e-02786fdd7597",
   "metadata": {},
   "outputs": [
    {
     "name": "stdout",
     "output_type": "stream",
     "text": [
      "NaN test: [False False False False False False  True]\n"
     ]
    }
   ],
   "source": [
    "print(\"NaN test:\", np.isnan(arr2))"
   ]
  },
  {
   "cell_type": "markdown",
   "id": "e934fa1f-1a98-46a3-ab01-c91edb524183",
   "metadata": {},
   "source": [
    "# 8. Test element-wise for complex, real numbers, and scalar type"
   ]
  },
  {
   "cell_type": "code",
   "execution_count": 33,
   "id": "3433e47f-fcde-440e-a26f-d14e8c9cbff4",
   "metadata": {},
   "outputs": [
    {
     "name": "stdout",
     "output_type": "stream",
     "text": [
      "Is complex: [False  True False]\n",
      "Is real: [ True False  True]\n",
      "Is scalar (check 3.5): True\n"
     ]
    }
   ],
   "source": [
    "arr3 = np.array([1, 2+3j, 5.0])\n",
    "print(\"Is complex:\", np.iscomplex(arr3))\n",
    "print(\"Is real:\", np.isreal(arr3))\n",
    "print(\"Is scalar :\", np.isscalar(3.5))"
   ]
  },
  {
   "cell_type": "markdown",
   "id": "d930053c-26ec-4cda-9ad7-b6831fc7a48a",
   "metadata": {},
   "source": [
    "# 9. Element-wise comparison of two arrays"
   ]
  },
  {
   "cell_type": "code",
   "execution_count": 36,
   "id": "728f07b2-4a12-4a99-bbf5-8f63b742acac",
   "metadata": {},
   "outputs": [
    {
     "name": "stdout",
     "output_type": "stream",
     "text": [
      "Greater: [False False  True]\n",
      "Greater_equal: [False  True  True]\n",
      "Less: [ True False False]\n",
      "Less_equal: [ True  True False]\n"
     ]
    }
   ],
   "source": [
    "x = np.array([1, 2, 3])\n",
    "y = np.array([2, 2, 2])\n",
    "print(\"Greater:\", np.greater(x, y))\n",
    "print(\"Greater_equal:\", np.greater_equal(x, y))\n",
    "print(\"Less:\", np.less(x, y))\n",
    "print(\"Less_equal:\", np.less_equal(x, y))"
   ]
  },
  {
   "cell_type": "markdown",
   "id": "a1a7fcc9-1728-482e-9535-4d140bc0083b",
   "metadata": {},
   "source": [
    "# 10. Create array with values 1,7,13,105 and find memory size"
   ]
  },
  {
   "cell_type": "code",
   "execution_count": 39,
   "id": "d2b0ae64-4b05-483f-b9a9-8a7691c6c9ef",
   "metadata": {},
   "outputs": [
    {
     "name": "stdout",
     "output_type": "stream",
     "text": [
      "Array: [  1   7  13 105]\n",
      "8\n",
      "Memory size (bytes): 32\n"
     ]
    }
   ],
   "source": [
    "arr = np.array([1, 7, 13, 105])\n",
    "print(\"Array:\", arr)\n",
    "print(arr.itemsize)  \n",
    "print(\"Memory size (bytes):\", arr.nbytes)"
   ]
  },
  {
   "cell_type": "markdown",
   "id": "858b5f8e-132c-480e-8769-2eb755f135ea",
   "metadata": {},
   "source": [
    "# 11. Create an array of 10 zeros, 10 ones, 10 fives"
   ]
  },
  {
   "cell_type": "code",
   "execution_count": 42,
   "id": "5c99b73a-e43a-4e0b-9fe4-881bd7d72e20",
   "metadata": {},
   "outputs": [
    {
     "name": "stdout",
     "output_type": "stream",
     "text": [
      "\n",
      "Zeros: [0. 0. 0. 0. 0. 0. 0. 0. 0. 0.]\n",
      "Ones: [1. 1. 1. 1. 1. 1. 1. 1. 1. 1.]\n",
      "Fives: [5 5 5 5 5 5 5 5 5 5]\n"
     ]
    }
   ],
   "source": [
    "zeros = np.zeros(10)\n",
    "ones = np.ones(10)\n",
    "fives = np.full(10, 5)\n",
    "print(\"\\nZeros:\", zeros)\n",
    "print(\"Ones:\", ones)\n",
    "print(\"Fives:\", fives)"
   ]
  },
  {
   "cell_type": "markdown",
   "id": "08cbd080-436e-4276-a4f0-2c1cf17a5957",
   "metadata": {},
   "source": [
    "# 12. Create an array of integers from 30 to 70"
   ]
  },
  {
   "cell_type": "code",
   "execution_count": 47,
   "id": "c9dad438-1581-45bc-b7ea-550c6d5664b1",
   "metadata": {},
   "outputs": [
    {
     "name": "stdout",
     "output_type": "stream",
     "text": [
      "Array 30 to 70: [30 31 32 33 34 35 36 37 38 39 40 41 42 43 44 45 46 47 48 49 50 51 52 53\n",
      " 54 55 56 57 58 59 60 61 62 63 64 65 66 67 68 69 70]\n"
     ]
    }
   ],
   "source": [
    "arr = np.arange(30, 71)\n",
    "print(\"Array 30 to 70:\", arr)"
   ]
  },
  {
   "cell_type": "markdown",
   "id": "e054af17-0ca3-4eef-be30-ea20fa7dbda3",
   "metadata": {},
   "source": [
    "# 13. Create an array of all even integers from 30 to 70"
   ]
  },
  {
   "cell_type": "code",
   "execution_count": 50,
   "id": "f93d5500-1a21-439c-aa32-2459ac1c6720",
   "metadata": {},
   "outputs": [
    {
     "name": "stdout",
     "output_type": "stream",
     "text": [
      "Even array 30 to 70: [30 32 34 36 38 40 42 44 46 48 50 52 54 56 58 60 62 64 66 68 70]\n"
     ]
    }
   ],
   "source": [
    "arr = np.arange(30, 71, 2)\n",
    "print(\"Even array 30 to 70:\", arr)"
   ]
  },
  {
   "cell_type": "markdown",
   "id": "a78fa9c3-74d9-46ba-b916-4415fd5fad07",
   "metadata": {},
   "source": [
    "# 14. Create a 3x3 identity matrix"
   ]
  },
  {
   "cell_type": "code",
   "execution_count": 53,
   "id": "3fa8c352-3bef-4819-b472-ee8f1c786b23",
   "metadata": {},
   "outputs": [
    {
     "name": "stdout",
     "output_type": "stream",
     "text": [
      "\n",
      "3x3 Identity Matrix:\n",
      " [[1. 0. 0.]\n",
      " [0. 1. 0.]\n",
      " [0. 0. 1.]]\n"
     ]
    }
   ],
   "source": [
    "identity = np.identity(3)\n",
    "print(\"\\n3x3 Identity Matrix:\\n\", identity)"
   ]
  },
  {
   "cell_type": "markdown",
   "id": "bb0a7928-d901-4ea2-8534-9ebb6a66f9f9",
   "metadata": {},
   "source": [
    "# 15. Generate a random number between 0 and 1"
   ]
  },
  {
   "cell_type": "code",
   "execution_count": 56,
   "id": "e6ed74db-23d9-43f4-93e5-cd672008e25e",
   "metadata": {},
   "outputs": [
    {
     "name": "stdout",
     "output_type": "stream",
     "text": [
      "Random number between 0 and 1: 0.3909129560912834\n"
     ]
    }
   ],
   "source": [
    "rand_num = np.random.rand()\n",
    "print(\"Random number between 0 and 1:\", rand_num)"
   ]
  },
  {
   "cell_type": "markdown",
   "id": "c6224dc4-ef01-426b-bfb5-6d5f19ef9785",
   "metadata": {},
   "source": [
    "# 16. Generate an array of 15 random numbers from a standard normal distribution"
   ]
  },
  {
   "cell_type": "code",
   "execution_count": 59,
   "id": "5e7b4835-f662-4b8d-8559-1319fa767575",
   "metadata": {},
   "outputs": [
    {
     "name": "stdout",
     "output_type": "stream",
     "text": [
      "15 Random numbers from normal distribution: [-0.9004996   0.85478548  0.68887507  0.42180643 -0.60675659 -0.97403714\n",
      " -0.85596488  1.58497278  0.4042567   0.45680799  0.88873677 -1.54191788\n",
      "  0.87160546  0.96846208 -1.35405096]\n"
     ]
    }
   ],
   "source": [
    "rand_arr = np.random.randn(15)\n",
    "print(\"15 Random numbers from normal distribution:\", rand_arr)\n"
   ]
  },
  {
   "cell_type": "markdown",
   "id": "e2be94fa-e3e0-4385-a90e-76ae4e4aed49",
   "metadata": {},
   "source": [
    "# 17. Create a vector with values ranging from 15 to 55 and print all values except the first and last"
   ]
  },
  {
   "cell_type": "code",
   "execution_count": 62,
   "id": "f60d66e4-044b-48a1-a141-9f96dca113ce",
   "metadata": {},
   "outputs": [
    {
     "name": "stdout",
     "output_type": "stream",
     "text": [
      "\n",
      "Vector 15 to 55: [15 16 17 18 19 20 21 22 23 24 25 26 27 28 29 30 31 32 33 34 35 36 37 38\n",
      " 39 40 41 42 43 44 45 46 47 48 49 50 51 52 53 54 55]\n",
      "Without first and last: [16 17 18 19 20 21 22 23 24 25 26 27 28 29 30 31 32 33 34 35 36 37 38 39\n",
      " 40 41 42 43 44 45 46 47 48 49 50 51 52 53 54]\n"
     ]
    }
   ],
   "source": [
    "vec = np.arange(15, 56)\n",
    "print(\"\\nVector 15 to 55:\", vec)\n",
    "print(\"Without first and last:\", vec[1:-1])\n"
   ]
  },
  {
   "cell_type": "markdown",
   "id": "f814ace5-edf6-4f15-a701-2dbd6a5263ce",
   "metadata": {},
   "source": [
    "# 18. Create a 3x4 array and iterate over it"
   ]
  },
  {
   "cell_type": "code",
   "execution_count": 65,
   "id": "4a3bd47e-9902-451d-993e-116799b98523",
   "metadata": {},
   "outputs": [
    {
     "name": "stdout",
     "output_type": "stream",
     "text": [
      "3x4 Array:\n",
      " [[ 0  1  2  3]\n",
      " [ 4  5  6  7]\n",
      " [ 8  9 10 11]]\n",
      "Iterating row-wise:\n",
      "[0 1 2 3]\n",
      "[4 5 6 7]\n",
      "[ 8  9 10 11]\n",
      "Iterating element-wise:\n",
      "0 1 2 3 4 5 6 7 8 9 10 11 "
     ]
    }
   ],
   "source": [
    "arr1 = np.arange(12).reshape(3, 4)  \n",
    "print(\"3x4 Array:\\n\", arr1)\n",
    "\n",
    "print(\"Iterating row-wise:\")\n",
    "for row in arr1:\n",
    "    print(row)\n",
    "\n",
    "print(\"Iterating element-wise:\")\n",
    "for element in np.nditer(arr1):   \n",
    "    print(element, end=\" \")"
   ]
  },
  {
   "cell_type": "markdown",
   "id": "97c3af51-3d28-40fd-9b2c-3431b6b92620",
   "metadata": {},
   "source": [
    "# 19. Create a vector of length 10 with values evenly distributed between 5 and 50"
   ]
  },
  {
   "cell_type": "code",
   "execution_count": 68,
   "id": "c109d478-3591-49d3-8354-5b9e6dc6f297",
   "metadata": {},
   "outputs": [
    {
     "name": "stdout",
     "output_type": "stream",
     "text": [
      "\n",
      "\n",
      "Vector with evenly spaced values between 5 and 50:\n",
      " [ 5. 10. 15. 20. 25. 30. 35. 40. 45. 50.]\n"
     ]
    }
   ],
   "source": [
    "vec1 = np.linspace(5, 50, 10)  # 10 points between 5 and 50\n",
    "print(\"\\n\\nVector with evenly spaced values between 5 and 50:\\n\", vec1)"
   ]
  },
  {
   "cell_type": "markdown",
   "id": "b4851c56-8582-4a2a-9f7b-b8e05c9cc12d",
   "metadata": {},
   "source": [
    "# 20. Create a vector 0–20 and change the sign of numbers from 9 to 15"
   ]
  },
  {
   "cell_type": "code",
   "execution_count": 71,
   "id": "1190ce8a-e798-4f0f-bf75-68d11e86b2da",
   "metadata": {},
   "outputs": [
    {
     "name": "stdout",
     "output_type": "stream",
     "text": [
      "\n",
      "Vector 0–20 with sign changed from 9–15:\n",
      " [  0   1   2   3   4   5   6   7   8  -9 -10 -11 -12 -13 -14 -15  16  17\n",
      "  18  19  20]\n"
     ]
    }
   ],
   "source": [
    "vec2 = np.arange(21)  \n",
    "vec2[(vec2 >= 9) & (vec2 <= 15)] *= -1  \n",
    "print(\"\\nVector 0–20 with sign changed from 9–15:\\n\", vec2)"
   ]
  },
  {
   "cell_type": "markdown",
   "id": "3cd9031e-c978-4fbd-a775-9fbdfe36d658",
   "metadata": {},
   "source": [
    "# 21. Create a vector of length 5 filled with arbitrary integers from 0 to 10"
   ]
  },
  {
   "cell_type": "code",
   "execution_count": 74,
   "id": "1e58da37-b6e3-4271-a0b5-adb4110db6f3",
   "metadata": {},
   "outputs": [
    {
     "name": "stdout",
     "output_type": "stream",
     "text": [
      "\n",
      "Random vector of length 5:\n",
      " [6 0 8 8 5]\n"
     ]
    }
   ],
   "source": [
    "vec3 = np.random.randint(0, 11, 5)   \n",
    "print(\"\\nRandom vector of length 5:\\n\", vec3)"
   ]
  },
  {
   "cell_type": "markdown",
   "id": "0a59c946-b555-48d7-b889-c4371c36aa83",
   "metadata": {},
   "source": [
    "# 22. Multiply the values of two given vectors"
   ]
  },
  {
   "cell_type": "code",
   "execution_count": 79,
   "id": "da54aa93-76ea-43c9-bde7-8ef21bf97417",
   "metadata": {},
   "outputs": [
    {
     "name": "stdout",
     "output_type": "stream",
     "text": [
      "\n",
      "Multiplication of vectors: [ 4 10 18]\n"
     ]
    }
   ],
   "source": [
    "v1 = np.array([1, 2, 3])\n",
    "v2 = np.array([4, 5, 6])\n",
    "product = np.multiply(v1, v2)   \n",
    "print(\"\\nMultiplication of vectors:\", product)"
   ]
  },
  {
   "cell_type": "markdown",
   "id": "be290769-8d16-4ef4-be17-65caacc12918",
   "metadata": {},
   "source": [
    "# 23 Create a 3x4 matrix filled with values from 10 to 21"
   ]
  },
  {
   "cell_type": "code",
   "execution_count": 82,
   "id": "41dd3720-6c64-4a58-84fe-424b3671f342",
   "metadata": {},
   "outputs": [
    {
     "name": "stdout",
     "output_type": "stream",
     "text": [
      "3x4 Matrix:\n",
      " [[10 11 12 13]\n",
      " [14 15 16 17]\n",
      " [18 19 20 21]]\n"
     ]
    }
   ],
   "source": [
    "matrix1 = np.arange(10, 22).reshape(3, 4)\n",
    "print(\"3x4 Matrix:\\n\", matrix1)"
   ]
  },
  {
   "cell_type": "markdown",
   "id": "c4b49d3c-4da5-4825-9ab4-75ab163042c9",
   "metadata": {},
   "source": [
    "# 24. Find number of rows and columns of a given matrix\n"
   ]
  },
  {
   "cell_type": "code",
   "execution_count": 86,
   "id": "cf143838-3ba8-410c-8884-8f29f7a2e4e5",
   "metadata": {},
   "outputs": [
    {
     "name": "stdout",
     "output_type": "stream",
     "text": [
      "Rows: 3 Columns: 4\n"
     ]
    }
   ],
   "source": [
    "rows, cols = matrix1.shape\n",
    "print(\"Rows:\", rows, \"Columns:\", cols)"
   ]
  },
  {
   "cell_type": "markdown",
   "id": "5b063292-be9a-4af7-a36f-ff2dacdcd771",
   "metadata": {},
   "source": [
    "# 25. Create a 3x3 identity matrix\n"
   ]
  },
  {
   "cell_type": "code",
   "execution_count": 89,
   "id": "edb21113-7320-4871-bed2-1ec9b58f7756",
   "metadata": {},
   "outputs": [
    {
     "name": "stdout",
     "output_type": "stream",
     "text": [
      "Identity Matrix:\n",
      " [[1. 0. 0.]\n",
      " [0. 1. 0.]\n",
      " [0. 0. 1.]]\n"
     ]
    }
   ],
   "source": [
    "identity_mat = np.identity(3)\n",
    "print(\"Identity Matrix:\\n\", identity_mat)"
   ]
  },
  {
   "cell_type": "markdown",
   "id": "0b2de462-5009-4e23-809a-7fa2bcad3b18",
   "metadata": {},
   "source": [
    "# 26. Create a 10x10 matrix, borders = 1, inside = 0"
   ]
  },
  {
   "cell_type": "code",
   "execution_count": 154,
   "id": "4a3ab06f-6858-4f92-989f-9360d7e846bc",
   "metadata": {},
   "outputs": [
    {
     "name": "stdout",
     "output_type": "stream",
     "text": [
      "Border Matrix:\n",
      " [[1. 1. 1. 1. 1. 1. 1. 1. 1. 1.]\n",
      " [1. 0. 0. 0. 0. 0. 0. 0. 0. 1.]\n",
      " [1. 0. 0. 0. 0. 0. 0. 0. 0. 1.]\n",
      " [1. 0. 0. 0. 0. 0. 0. 0. 0. 1.]\n",
      " [1. 0. 0. 0. 0. 0. 0. 0. 0. 1.]\n",
      " [1. 0. 0. 0. 0. 0. 0. 0. 0. 1.]\n",
      " [1. 0. 0. 0. 0. 0. 0. 0. 0. 1.]\n",
      " [1. 0. 0. 0. 0. 0. 0. 0. 0. 1.]\n",
      " [1. 0. 0. 0. 0. 0. 0. 0. 0. 1.]\n",
      " [1. 1. 1. 1. 1. 1. 1. 1. 1. 1.]]\n"
     ]
    }
   ],
   "source": [
    "border_matrix = np.ones((10, 10))\n",
    "border_matrix[1:-1, 1:-1] = 0\n",
    "print(\"Border Matrix:\\n\", border_matrix)\n"
   ]
  },
  {
   "cell_type": "markdown",
   "id": "444745ce-a94b-4153-9784-6feaef1d6bd9",
   "metadata": {},
   "source": [
    " # 27. Create a 5x5 zero matrix with diagonal elements = 1,2,3,4,5\n"
   ]
  },
  {
   "cell_type": "code",
   "execution_count": 99,
   "id": "818333ac-3d32-4f3e-b571-8e7cc4f6f0df",
   "metadata": {},
   "outputs": [
    {
     "name": "stdout",
     "output_type": "stream",
     "text": [
      "Diagonal Matrix:\n",
      " [[1 0 0 0 0]\n",
      " [0 2 0 0 0]\n",
      " [0 0 3 0 0]\n",
      " [0 0 0 4 0]\n",
      " [0 0 0 0 5]]\n"
     ]
    }
   ],
   "source": [
    "diag_matrix = np.diag([1, 2, 3, 4, 5])\n",
    "print(\"Diagonal Matrix:\\n\", diag_matrix)\n"
   ]
  },
  {
   "cell_type": "markdown",
   "id": "3f852781-d024-4d81-a6a2-013b6e9dcfa0",
   "metadata": {},
   "source": [
    "\n",
    "# 28. Create a 4x4 matrix with 0 & 1 staggered, diagonal = 0"
   ]
  },
  {
   "cell_type": "code",
   "execution_count": 102,
   "id": "b6c9ea70-6669-45bd-aa76-559310597c92",
   "metadata": {},
   "outputs": [
    {
     "name": "stdout",
     "output_type": "stream",
     "text": [
      "Staggered Matrix:\n",
      " [[0 1 0 1]\n",
      " [1 0 1 0]\n",
      " [0 1 0 1]\n",
      " [1 0 1 0]]\n"
     ]
    }
   ],
   "source": [
    "stagger_matrix = np.indices((4, 4)).sum(axis=0) % 2\n",
    "np.fill_diagonal(stagger_matrix, 0)\n",
    "print(\"Staggered Matrix:\\n\", stagger_matrix)"
   ]
  },
  {
   "cell_type": "markdown",
   "id": "167ff65d-aa79-45d0-93b3-558aa05a3903",
   "metadata": {},
   "source": [
    "# 29. Create a 3x3x3 array with arbitrary values"
   ]
  },
  {
   "cell_type": "code",
   "execution_count": 106,
   "id": "d5778ca5-2ddd-47ba-a5ab-203dd9f9f315",
   "metadata": {},
   "outputs": [
    {
     "name": "stdout",
     "output_type": "stream",
     "text": [
      "3x3x3 Array:\n",
      " [[[2 2 4]\n",
      "  [6 2 6]\n",
      "  [2 6 5]]\n",
      "\n",
      " [[4 8 2]\n",
      "  [2 9 7]\n",
      "  [6 5 0]]\n",
      "\n",
      " [[6 1 3]\n",
      "  [0 5 8]\n",
      "  [8 1 4]]]\n"
     ]
    }
   ],
   "source": [
    "array3d = np.random.randint(0, 10, (3, 3, 3))\n",
    "print(\"3x3x3 Array:\\n\", array3d)"
   ]
  },
  {
   "cell_type": "markdown",
   "id": "4cd27201-44e6-4828-82b4-e4e51a1af76e",
   "metadata": {},
   "source": [
    "# 30. Compute sum of all elements, sum of each column and sum of each row"
   ]
  },
  {
   "cell_type": "code",
   "execution_count": 109,
   "id": "6c00ba29-d8c1-4e40-8433-44eeadd893ea",
   "metadata": {},
   "outputs": [
    {
     "name": "stdout",
     "output_type": "stream",
     "text": [
      "Sum of all elements: 186\n",
      "Sum of each column: [42 45 48 51]\n",
      "Sum of each row: [46 62 78]\n"
     ]
    }
   ],
   "source": [
    "print(\"Sum of all elements:\", matrix1.sum())\n",
    "print(\"Sum of each column:\", matrix1.sum(axis=0))\n",
    "print(\"Sum of each row:\", matrix1.sum(axis=1))"
   ]
  },
  {
   "cell_type": "markdown",
   "id": "63c8789a-9213-42e0-83d0-f2aa7614f331",
   "metadata": {},
   "source": [
    "# 31. Compute inner product of two vectors\n"
   ]
  },
  {
   "cell_type": "code",
   "execution_count": 114,
   "id": "af782cec-1e80-4e6d-906f-ba902ee206dc",
   "metadata": {},
   "outputs": [
    {
     "name": "stdout",
     "output_type": "stream",
     "text": [
      "Inner Product: 32\n"
     ]
    }
   ],
   "source": [
    "v1 = np.array([1, 2, 3])\n",
    "v2 = np.array([4, 5, 6])\n",
    "print(\"Inner Product:\", np.inner(v1, v2))\n"
   ]
  },
  {
   "cell_type": "markdown",
   "id": "2877be42-f023-4bd4-a475-7fdcf0c165fa",
   "metadata": {},
   "source": [
    "# 32. Add a vector to each row of a given matrix\n"
   ]
  },
  {
   "cell_type": "code",
   "execution_count": 117,
   "id": "ad1fd96f-1d55-4cf9-89ea-93a2b6684c1b",
   "metadata": {},
   "outputs": [
    {
     "name": "stdout",
     "output_type": "stream",
     "text": [
      "Matrix + Vector:\n",
      " [[11 22 33]\n",
      " [14 25 36]]\n"
     ]
    }
   ],
   "source": [
    "mat = np.array([[1, 2, 3], [4, 5, 6]])\n",
    "vec = np.array([10, 20, 30])\n",
    "print(\"Matrix + Vector:\\n\", mat + vec)\n"
   ]
  },
  {
   "cell_type": "markdown",
   "id": "1fea34f9-4b29-4c36-9d1e-95068b108db1",
   "metadata": {},
   "source": [
    "# 33. Compute x, y for sine curve & plot\n"
   ]
  },
  {
   "cell_type": "markdown",
   "id": "7b6715b8-fe1d-49ad-a1cb-772ef379e95b",
   "metadata": {},
   "source": [
    "x = np.linspace(0, 2*np.pi, 100)\n",
    "y = np.sin(x)\n",
    "plt.plot(x, y)\n",
    "plt.title(\"Sine Curve\")\n",
    "plt.show()\n"
   ]
  },
  {
   "cell_type": "markdown",
   "id": "aa195f5a-0501-4527-92f1-16061e0ec75d",
   "metadata": {},
   "source": [
    "# 34. Convert numpy dtypes to native python types\n"
   ]
  },
  {
   "cell_type": "code",
   "execution_count": 129,
   "id": "75d4ecee-8385-457f-9bc9-53bd64517043",
   "metadata": {},
   "outputs": [
    {
     "name": "stdout",
     "output_type": "stream",
     "text": [
      "Python type: <class 'int'>\n"
     ]
    }
   ],
   "source": [
    "n = np.int32(100)\n",
    "print(\"Python type:\", type(n.item()))"
   ]
  },
  {
   "cell_type": "markdown",
   "id": "606c4b62-4774-4566-98ba-0aaf1d9dde79",
   "metadata": {},
   "source": [
    "# 35. Find missing data in array"
   ]
  },
  {
   "cell_type": "code",
   "execution_count": 135,
   "id": "01f0b5ab-bf5e-4549-91ce-39b323add752",
   "metadata": {},
   "outputs": [
    {
     "name": "stdout",
     "output_type": "stream",
     "text": [
      "Missing Data: [False False  True False False  True]\n"
     ]
    }
   ],
   "source": [
    "arr = np.array([1, 2, np.nan, 4, 5, np.nan])\n",
    "print(\"Missing Data:\", np.isnan(arr))"
   ]
  },
  {
   "cell_type": "markdown",
   "id": "c129525d-9180-4df4-bef2-21123104dce5",
   "metadata": {},
   "source": [
    " # 36. Sort array by row & column\n"
   ]
  },
  {
   "cell_type": "code",
   "execution_count": 138,
   "id": "04a5fd84-c279-442c-9e42-4c2230c9ea15",
   "metadata": {},
   "outputs": [
    {
     "name": "stdout",
     "output_type": "stream",
     "text": [
      "Row-wise sort:\n",
      " [[3 7 9]\n",
      " [1 2 5]]\n",
      "Column-wise sort:\n",
      " [[1 5 2]\n",
      " [3 7 9]]\n"
     ]
    }
   ],
   "source": [
    "arr2 = np.array([[3, 7, 9], [1, 5, 2]])\n",
    "print(\"Row-wise sort:\\n\", np.sort(arr2, axis=1))\n",
    "print(\"Column-wise sort:\\n\", np.sort(arr2, axis=0))"
   ]
  },
  {
   "cell_type": "markdown",
   "id": "a725ec36-dcf3-427d-9c16-e4b7821f82c7",
   "metadata": {},
   "source": [
    "# 37. Extract numbers less/greater than a given number"
   ]
  },
  {
   "cell_type": "code",
   "execution_count": 147,
   "id": "37a86db8-11b5-4ac9-873a-3f96c6ffaf5a",
   "metadata": {},
   "outputs": [
    {
     "name": "stdout",
     "output_type": "stream",
     "text": [
      "Less than 10: [1 5 8]\n",
      "Greater than 10: [12 20]\n"
     ]
    }
   ],
   "source": [
    "arr3 = np.array([1, 5, 8, 12, 20])\n",
    "print(\"Less than 10:\", arr3[arr3 < 10])\n",
    "print(\"Greater than 10:\", arr3[arr3 > 10])\n"
   ]
  },
  {
   "cell_type": "markdown",
   "id": "c9a09c73-9044-47a3-9a6f-d246762bdbf2",
   "metadata": {},
   "source": [
    "# 38. Replace numbers equal, less, greater than a given number\n"
   ]
  },
  {
   "cell_type": "code",
   "execution_count": 144,
   "id": "fde75298-dd4e-4dd1-8cf5-78f5e019d997",
   "metadata": {},
   "outputs": [
    {
     "name": "stdout",
     "output_type": "stream",
     "text": [
      "Replaced Array: [-2 -2 -3 -3]\n"
     ]
    }
   ],
   "source": [
    "arr4 = np.array([5, 10, 15, 20])\n",
    "arr4[arr4 == 10] = -1\n",
    "arr4[arr4 < 10] = -2\n",
    "arr4[arr4 > 10] = -3\n",
    "print(\"Replaced Array:\", arr4)"
   ]
  },
  {
   "cell_type": "markdown",
   "id": "d6c8f778-8896-4690-9209-3d3171fd8d6e",
   "metadata": {},
   "source": [
    "# 39. Create equal shape & type array of a given array\n"
   ]
  },
  {
   "cell_type": "code",
   "execution_count": 151,
   "id": "7cca6010-1f1d-4e9a-b6c2-ed169bdac3d4",
   "metadata": {},
   "outputs": [
    {
     "name": "stdout",
     "output_type": "stream",
     "text": [
      "Equal Shape Array:\n",
      " [[1 5 2]\n",
      " [3 7 9]]\n"
     ]
    }
   ],
   "source": [
    "arr5 = np.arange(6).reshape(2, 3)\n",
    "arr_equal = np.empty_like(arr5)\n",
    "print(\"Equal Shape Array:\\n\", arr_equal)"
   ]
  },
  {
   "cell_type": "markdown",
   "id": "333280b1-5f8e-46ac-bc27-f9bdf2d20c8d",
   "metadata": {},
   "source": [
    "# 40. Create a 3D array with shape (3,5,4)\n"
   ]
  },
  {
   "cell_type": "code",
   "execution_count": 169,
   "id": "86d9f3f3-0ebd-436f-bc27-72b1b36c3a30",
   "metadata": {},
   "outputs": [
    {
     "name": "stdout",
     "output_type": "stream",
     "text": [
      "3D Array Shape: (3, 5, 4)\n"
     ]
    }
   ],
   "source": [
    "array3d_var = np.zeros((3, 5, 4))\n",
    "print(\"3D Array Shape:\", array3d_var.shape)\n"
   ]
  },
  {
   "cell_type": "markdown",
   "id": "10af9d9b-638d-48d8-b1e2-a6b8342671e1",
   "metadata": {},
   "source": [
    " # 41. Multiply two arrays element-by-element\n"
   ]
  },
  {
   "cell_type": "code",
   "execution_count": 172,
   "id": "addc66ab-de8c-4ca5-b7e5-e0a4d868f493",
   "metadata": {},
   "outputs": [
    {
     "name": "stdout",
     "output_type": "stream",
     "text": [
      "Element-wise Multiplication:\n",
      " [[2 4]\n",
      " [6 8]]\n"
     ]
    }
   ],
   "source": [
    "arrA = np.array([[1, 2], [3, 4]])\n",
    "arrB = np.array([[2, 2], [2, 2]])\n",
    "print(\"Element-wise multiplication:\\n\", arrA * arrB)\n"
   ]
  },
  {
   "cell_type": "code",
   "execution_count": null,
   "id": "69c8aba5-7529-4334-97b4-13bc42b9bd08",
   "metadata": {},
   "outputs": [],
   "source": []
  }
 ],
 "metadata": {
  "kernelspec": {
   "display_name": "Python [conda env:base] *",
   "language": "python",
   "name": "conda-base-py"
  },
  "language_info": {
   "codemirror_mode": {
    "name": "ipython",
    "version": 3
   },
   "file_extension": ".py",
   "mimetype": "text/x-python",
   "name": "python",
   "nbconvert_exporter": "python",
   "pygments_lexer": "ipython3",
   "version": "3.12.7"
  }
 },
 "nbformat": 4,
 "nbformat_minor": 5
}
